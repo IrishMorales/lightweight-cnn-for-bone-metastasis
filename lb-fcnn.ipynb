{
 "cells": [
  {
   "cell_type": "markdown",
   "metadata": {},
   "source": [
    "# Bone Metastasis Classification using Lightweight LB-FCNN"
   ]
  },
  {
   "cell_type": "markdown",
   "metadata": {},
   "source": [
    "### Import Libraries"
   ]
  },
  {
   "cell_type": "code",
   "execution_count": 1,
   "metadata": {
    "vscode": {
     "languageId": "plaintext"
    }
   },
   "outputs": [
    {
     "name": "stderr",
     "output_type": "stream",
     "text": [
      "C:\\Users\\Irish\\anaconda3\\envs\\conv_env\\lib\\site-packages\\torchvision\\io\\image.py:13: UserWarning: Failed to load image Python extension: [WinError 127] The specified procedure could not be found\n",
      "  warn(f\"Failed to load image Python extension: {e}\")\n"
     ]
    }
   ],
   "source": [
    "import os\n",
    "import numpy as np\n",
    "import pandas as pd\n",
    "from PIL import Image\n",
    "from io import StringIO\n",
    "from matplotlib import pyplot as plt\n",
    "import torch\n",
    "import torch.nn as nn\n",
    "import torch.nn.functional as F\n",
    "import torch.optim as optim\n",
    "from torchvision import datasets, transforms, models\n",
    "from torchvision.utils import make_grid\n",
    "from torch.utils.data import Dataset, DataLoader\n",
    "from torch.utils.data.sampler import SubsetRandomSampler\n",
    "from sklearn.model_selection import KFold\n",
    "from sklearn.metrics import accuracy_score, precision_score, recall_score, f1_score\n",
    "from torchstat import stat\n",
    "from torchsummary import summary"
   ]
  },
  {
   "cell_type": "markdown",
   "metadata": {},
   "source": [
    "### Define Variables & Helper Functions"
   ]
  },
  {
   "cell_type": "code",
   "execution_count": 2,
   "metadata": {},
   "outputs": [
    {
     "data": {
      "text/plain": [
       "<torch._C.Generator at 0x1ead5145c90>"
      ]
     },
     "execution_count": 2,
     "metadata": {},
     "output_type": "execute_result"
    }
   ],
   "source": [
    "# Set seed for random number generation to create reproducible results\n",
    "random_seed = 5\n",
    "torch.manual_seed(random_seed)"
   ]
  },
  {
   "cell_type": "code",
   "execution_count": 3,
   "metadata": {},
   "outputs": [],
   "source": [
    "# Transformations to apply to inputs\n",
    "preprocess = transforms.Compose([\n",
    "    # Convert PIL Image to tensor and scale to [0, 1] through max normalization\n",
    "    # (i.e. for every pixel in image, new_pixel_value = pixel/255)\n",
    "    transforms.ToTensor()\n",
    "])"
   ]
  },
  {
   "cell_type": "code",
   "execution_count": 4,
   "metadata": {},
   "outputs": [],
   "source": [
    "# Helper function to get ground truth class of an image\n",
    "def get_img_labels(img_dir):\n",
    "    labels = ''\n",
    "    \n",
    "    for filename in os.listdir(img_dir):\n",
    "        # If image has no metastasis\n",
    "        if (filename[5] == '0'):\n",
    "            labels += filename + \",0\\n\"\n",
    "            \n",
    "        # If image has metastasis\n",
    "        else:\n",
    "            labels += filename + \",1\\n\"\n",
    "        \n",
    "    return labels"
   ]
  },
  {
   "cell_type": "markdown",
   "metadata": {},
   "source": [
    "### Load Data"
   ]
  },
  {
   "cell_type": "code",
   "execution_count": 5,
   "metadata": {},
   "outputs": [],
   "source": [
    "data_dir = r\"dataset-sample-flat\""
   ]
  },
  {
   "cell_type": "code",
   "execution_count": 6,
   "metadata": {},
   "outputs": [],
   "source": [
    "# Image dataset\n",
    "class CustomDataset(Dataset):\n",
    "    def __init__(self, img_dir, transform):\n",
    "        self.img_dir = img_dir\n",
    "        self.img_labels = pd.read_csv(StringIO(get_img_labels(img_dir)), sep=\",\", header=None)\n",
    "        self.transform = transform\n",
    "\n",
    "    def __len__(self):\n",
    "        return len(self.img_labels)\n",
    "\n",
    "    def __getitem__(self, idx):\n",
    "        # Generate image filepath\n",
    "        filename = self.img_labels.iloc[idx, 0]\n",
    "        img_path = self.img_dir + \"/\" + filename\n",
    "        \n",
    "        # Read and transform image\n",
    "        image = Image.open(img_path).convert(\"RGB\")\n",
    "        image = self.transform(image)\n",
    "        \n",
    "        # Determine ground truth class (metastasis or no metastasis)\n",
    "        label = self.img_labels.iloc[idx, 1]\n",
    "        return image, label"
   ]
  },
  {
   "cell_type": "code",
   "execution_count": 7,
   "metadata": {},
   "outputs": [],
   "source": [
    "# Dataset and dataloader for training data\n",
    "dataset = CustomDataset(img_dir=data_dir, transform=preprocess)"
   ]
  },
  {
   "cell_type": "markdown",
   "metadata": {},
   "source": [
    "### Define Model"
   ]
  },
  {
   "cell_type": "code",
   "execution_count": 8,
   "metadata": {},
   "outputs": [],
   "source": [
    "# Model hyperparameters; epochs & batch size from Magboo & Abu\n",
    "k_folds = 3 # 10\n",
    "epochs = 3 # 100\n",
    "batch_size = 16"
   ]
  },
  {
   "cell_type": "code",
   "execution_count": 9,
   "metadata": {},
   "outputs": [],
   "source": [
    "# Image channels - 3 for R, G, B feature maps\n",
    "channels = 3"
   ]
  },
  {
   "cell_type": "code",
   "execution_count": 10,
   "metadata": {},
   "outputs": [],
   "source": [
    "# Depthwise Separable Convolution\n",
    "class DSConv(nn.Module):\n",
    "    # Define layers\n",
    "    def __init__(self, kernel_size):\n",
    "        super(DSConv, self).__init__()\n",
    "        self.depthwise_conv = nn.Conv2d(in_channels = channels, out_channels = channels, padding = 'same',\n",
    "                                        kernel_size = kernel_size, bias = False, groups = channels)\n",
    "        self.pointwise_conv = nn.Conv2d(in_channels = channels, out_channels = 1, \n",
    "                                        kernel_size = 1, bias = False)\n",
    "\n",
    "    # Apply layers\n",
    "    def forward(self, x):\n",
    "        x = F.leaky_relu(self.depthwise_conv(x))\n",
    "        x = F.leaky_relu(self.pointwise_conv(x))\n",
    "        \n",
    "        return x"
   ]
  },
  {
   "cell_type": "code",
   "execution_count": 11,
   "metadata": {},
   "outputs": [],
   "source": [
    "# Multiscale Depthwise Separable Convolution module\n",
    "class MDSConv(nn.Module):\n",
    "    # Define layers\n",
    "    def __init__(self):\n",
    "        super(MDSConv, self).__init__()\n",
    "        self.conv = nn.Conv2d(in_channels = channels, out_channels = channels, kernel_size = 1, bias = False)\n",
    "        self.norm1 = nn.BatchNorm2d(num_features = channels)\n",
    "        self.norm2 = nn.BatchNorm2d(num_features = 1)\n",
    "        self.ds_conv1 = DSConv(kernel_size = 3)\n",
    "        self.ds_conv2 = DSConv(kernel_size = 5)\n",
    "        self.ds_conv3 = DSConv(kernel_size = 7)\n",
    "        \n",
    "    # Apply layers\n",
    "    def forward(self, x):\n",
    "        x = F.leaky_relu(self.conv(x))\n",
    "        x = self.norm1(x)\n",
    "        \n",
    "        # Depthwise separable convolution with 3x3 kernel\n",
    "        x1 = self.ds_conv1(x)\n",
    "        x1 = self.norm2(x1)\n",
    "        \n",
    "        # Depthwise separable convolution with 5x5 kernel\n",
    "        x2 = self.ds_conv2(x)\n",
    "        x2 = self.norm2(x2)\n",
    "        \n",
    "        # Depthwise separable convolution with 7x7 kernel\n",
    "        x3 = self.ds_conv3(x)\n",
    "        x3 = self.norm2(x3)\n",
    "        \n",
    "        x = torch.concat((x1, x2, x3), dim = 1)\n",
    "        x = self.norm1(x)\n",
    "        x = F.leaky_relu(self.conv(x))\n",
    "        \n",
    "        return x"
   ]
  },
  {
   "cell_type": "code",
   "execution_count": 12,
   "metadata": {},
   "outputs": [],
   "source": [
    "# Residual Connection module\n",
    "class ResConnection(nn.Module):\n",
    "    # Define layers\n",
    "    def __init__(self):\n",
    "        super(ResConnection, self).__init__()\n",
    "        self.conv = nn.Conv2d(in_channels = channels, out_channels = channels, kernel_size = 1, bias = False)\n",
    "        self.norm = nn.BatchNorm2d(num_features = channels)\n",
    "\n",
    "    # Apply layers\n",
    "    def forward(self, x):\n",
    "        x = F.leaky_relu(self.conv(x))\n",
    "        x = self.norm(x)\n",
    "        \n",
    "        return x"
   ]
  },
  {
   "cell_type": "code",
   "execution_count": 13,
   "metadata": {},
   "outputs": [],
   "source": [
    "# The main building block of LB-FCNN light architecture\n",
    "class LBFCNNLightBlock(nn.Module):\n",
    "    # Define layers\n",
    "    def __init__(self):\n",
    "        super(LBFCNNLightBlock, self).__init__()\n",
    "        self.mdsc = MDSConv()\n",
    "        self.rc = ResConnection()\n",
    "        self.conv = nn.Conv2d(in_channels = channels, out_channels = channels, kernel_size = 1, bias = False)\n",
    "        self.norm = nn.BatchNorm2d(num_features = channels)\n",
    "        \n",
    "    # Apply layers\n",
    "    def forward(self, x):\n",
    "        x_mdsc = self.mdsc(x)\n",
    "        x_rc = self.rc(x)\n",
    "        x = torch.add(x_mdsc, x_rc)\n",
    "        x = F.leaky_relu(self.conv(x))\n",
    "        x = self.norm(x)\n",
    "        \n",
    "        return x"
   ]
  },
  {
   "cell_type": "code",
   "execution_count": 14,
   "metadata": {},
   "outputs": [],
   "source": [
    "# Create LB-FCNN light model\n",
    "class LBFCNNLight(nn.Module):\n",
    "    # Define layers\n",
    "    def __init__(self):\n",
    "        super().__init__()\n",
    "        self.mdsc = MDSConv()\n",
    "        self.lbfcnn_block = LBFCNNLightBlock()\n",
    "        self.pool = nn.Conv2d(in_channels = channels, out_channels = channels, \n",
    "                              kernel_size = 2, stride = 2, bias = False)\n",
    "        self.fc = nn.Linear(in_features = channels, out_features = 2)\n",
    "        # TODO: Fix pool; paper says kernel size=3, but kernel=3 results in tensor shapes that don't match the paper diagram\n",
    "        # Some other value somewhere must be excess by 1\n",
    "        \n",
    "        # TODO: Fix feature maps here don't match feature maps in paper diagram\n",
    "        \n",
    "    # Apply layers\n",
    "    def forward(self, x):\n",
    "        x = self.mdsc(x)\n",
    "        x = self.pool(x)\n",
    "        x = self.lbfcnn_block(x)\n",
    "        x = self.pool(x)\n",
    "        x = self.lbfcnn_block(x)\n",
    "        x = self.pool(x)\n",
    "        x = self.lbfcnn_block(x)\n",
    "        x = self.pool(x)\n",
    "        x = F.adaptive_avg_pool2d(x, (1, 1))\n",
    "        x = torch.flatten(input = x, start_dim = 1)\n",
    "        x = self.fc(x)\n",
    "        x = F.softmax(input = x, dim = 1)\n",
    "        \n",
    "        return x"
   ]
  },
  {
   "cell_type": "code",
   "execution_count": 15,
   "metadata": {},
   "outputs": [
    {
     "name": "stdout",
     "output_type": "stream",
     "text": [
      "Performing torch operations on cpu device\n"
     ]
    }
   ],
   "source": [
    "# Allocate tensors to the device used for computation\n",
    "device = \"cuda\" if torch.cuda.is_available() else \"cpu\"\n",
    "print(f\"Performing torch operations on {device} device\")"
   ]
  },
  {
   "cell_type": "code",
   "execution_count": 16,
   "metadata": {},
   "outputs": [
    {
     "name": "stdout",
     "output_type": "stream",
     "text": [
      "----------------------------------------------------------------\n",
      "        Layer (type)               Output Shape         Param #\n",
      "================================================================\n",
      "            Conv2d-1          [-1, 3, 646, 220]               9\n",
      "       BatchNorm2d-2          [-1, 3, 646, 220]               6\n",
      "            Conv2d-3          [-1, 3, 646, 220]              27\n",
      "            Conv2d-4          [-1, 1, 646, 220]               3\n",
      "            DSConv-5          [-1, 1, 646, 220]               0\n",
      "       BatchNorm2d-6          [-1, 1, 646, 220]               2\n",
      "            Conv2d-7          [-1, 3, 646, 220]              75\n",
      "            Conv2d-8          [-1, 1, 646, 220]               3\n",
      "            DSConv-9          [-1, 1, 646, 220]               0\n",
      "      BatchNorm2d-10          [-1, 1, 646, 220]               2\n",
      "           Conv2d-11          [-1, 3, 646, 220]             147\n",
      "           Conv2d-12          [-1, 1, 646, 220]               3\n",
      "           DSConv-13          [-1, 1, 646, 220]               0\n",
      "      BatchNorm2d-14          [-1, 1, 646, 220]               2\n",
      "      BatchNorm2d-15          [-1, 3, 646, 220]               6\n",
      "           Conv2d-16          [-1, 3, 646, 220]               9\n",
      "          MDSConv-17          [-1, 3, 646, 220]               0\n",
      "           Conv2d-18          [-1, 3, 323, 110]              36\n",
      "           Conv2d-19          [-1, 3, 323, 110]               9\n",
      "      BatchNorm2d-20          [-1, 3, 323, 110]               6\n",
      "           Conv2d-21          [-1, 3, 323, 110]              27\n",
      "           Conv2d-22          [-1, 1, 323, 110]               3\n",
      "           DSConv-23          [-1, 1, 323, 110]               0\n",
      "      BatchNorm2d-24          [-1, 1, 323, 110]               2\n",
      "           Conv2d-25          [-1, 3, 323, 110]              75\n",
      "           Conv2d-26          [-1, 1, 323, 110]               3\n",
      "           DSConv-27          [-1, 1, 323, 110]               0\n",
      "      BatchNorm2d-28          [-1, 1, 323, 110]               2\n",
      "           Conv2d-29          [-1, 3, 323, 110]             147\n",
      "           Conv2d-30          [-1, 1, 323, 110]               3\n",
      "           DSConv-31          [-1, 1, 323, 110]               0\n",
      "      BatchNorm2d-32          [-1, 1, 323, 110]               2\n",
      "      BatchNorm2d-33          [-1, 3, 323, 110]               6\n",
      "           Conv2d-34          [-1, 3, 323, 110]               9\n",
      "          MDSConv-35          [-1, 3, 323, 110]               0\n",
      "           Conv2d-36          [-1, 3, 323, 110]               9\n",
      "      BatchNorm2d-37          [-1, 3, 323, 110]               6\n",
      "    ResConnection-38          [-1, 3, 323, 110]               0\n",
      "           Conv2d-39          [-1, 3, 323, 110]               9\n",
      "      BatchNorm2d-40          [-1, 3, 323, 110]               6\n",
      " LBFCNNLightBlock-41          [-1, 3, 323, 110]               0\n",
      "           Conv2d-42           [-1, 3, 161, 55]              36\n",
      "           Conv2d-43           [-1, 3, 161, 55]               9\n",
      "      BatchNorm2d-44           [-1, 3, 161, 55]               6\n",
      "           Conv2d-45           [-1, 3, 161, 55]              27\n",
      "           Conv2d-46           [-1, 1, 161, 55]               3\n",
      "           DSConv-47           [-1, 1, 161, 55]               0\n",
      "      BatchNorm2d-48           [-1, 1, 161, 55]               2\n",
      "           Conv2d-49           [-1, 3, 161, 55]              75\n",
      "           Conv2d-50           [-1, 1, 161, 55]               3\n",
      "           DSConv-51           [-1, 1, 161, 55]               0\n",
      "      BatchNorm2d-52           [-1, 1, 161, 55]               2\n",
      "           Conv2d-53           [-1, 3, 161, 55]             147\n",
      "           Conv2d-54           [-1, 1, 161, 55]               3\n",
      "           DSConv-55           [-1, 1, 161, 55]               0\n",
      "      BatchNorm2d-56           [-1, 1, 161, 55]               2\n",
      "      BatchNorm2d-57           [-1, 3, 161, 55]               6\n",
      "           Conv2d-58           [-1, 3, 161, 55]               9\n",
      "          MDSConv-59           [-1, 3, 161, 55]               0\n",
      "           Conv2d-60           [-1, 3, 161, 55]               9\n",
      "      BatchNorm2d-61           [-1, 3, 161, 55]               6\n",
      "    ResConnection-62           [-1, 3, 161, 55]               0\n",
      "           Conv2d-63           [-1, 3, 161, 55]               9\n",
      "      BatchNorm2d-64           [-1, 3, 161, 55]               6\n",
      " LBFCNNLightBlock-65           [-1, 3, 161, 55]               0\n",
      "           Conv2d-66            [-1, 3, 80, 27]              36\n",
      "           Conv2d-67            [-1, 3, 80, 27]               9\n",
      "      BatchNorm2d-68            [-1, 3, 80, 27]               6\n",
      "           Conv2d-69            [-1, 3, 80, 27]              27\n",
      "           Conv2d-70            [-1, 1, 80, 27]               3\n",
      "           DSConv-71            [-1, 1, 80, 27]               0\n",
      "      BatchNorm2d-72            [-1, 1, 80, 27]               2\n",
      "           Conv2d-73            [-1, 3, 80, 27]              75\n",
      "           Conv2d-74            [-1, 1, 80, 27]               3\n",
      "           DSConv-75            [-1, 1, 80, 27]               0\n",
      "      BatchNorm2d-76            [-1, 1, 80, 27]               2\n",
      "           Conv2d-77            [-1, 3, 80, 27]             147\n",
      "           Conv2d-78            [-1, 1, 80, 27]               3\n",
      "           DSConv-79            [-1, 1, 80, 27]               0\n",
      "      BatchNorm2d-80            [-1, 1, 80, 27]               2\n",
      "      BatchNorm2d-81            [-1, 3, 80, 27]               6\n",
      "           Conv2d-82            [-1, 3, 80, 27]               9\n",
      "          MDSConv-83            [-1, 3, 80, 27]               0\n",
      "           Conv2d-84            [-1, 3, 80, 27]               9\n",
      "      BatchNorm2d-85            [-1, 3, 80, 27]               6\n",
      "    ResConnection-86            [-1, 3, 80, 27]               0\n",
      "           Conv2d-87            [-1, 3, 80, 27]               9\n",
      "      BatchNorm2d-88            [-1, 3, 80, 27]               6\n",
      " LBFCNNLightBlock-89            [-1, 3, 80, 27]               0\n",
      "           Conv2d-90            [-1, 3, 40, 13]              36\n",
      "           Linear-91                    [-1, 2]               8\n",
      "================================================================\n",
      "Total params: 1,418\n",
      "Trainable params: 1,418\n",
      "Non-trainable params: 0\n",
      "----------------------------------------------------------------\n",
      "Input size (MB): 1.63\n",
      "Forward/backward pass size (MB): 54.97\n",
      "Params size (MB): 0.01\n",
      "Estimated Total Size (MB): 56.60\n",
      "----------------------------------------------------------------\n"
     ]
    }
   ],
   "source": [
    "# Inspect model shapes per layer\n",
    "model = LBFCNNLight().to(device)\n",
    "summary(model, (3, 646, 220))"
   ]
  },
  {
   "cell_type": "markdown",
   "metadata": {},
   "source": [
    "### Train Model"
   ]
  },
  {
   "cell_type": "code",
   "execution_count": 17,
   "metadata": {},
   "outputs": [],
   "source": [
    "# Evaluation metrics\n",
    "results_accuracy = []\n",
    "results_precision = []\n",
    "results_sensitivity = []\n",
    "results_specificity = []\n",
    "results_f1 = []\n",
    "train_losses = []\n",
    "test_losses = []"
   ]
  },
  {
   "cell_type": "code",
   "execution_count": 18,
   "metadata": {},
   "outputs": [],
   "source": [
    "# Define the K-fold Cross Validator\n",
    "kfold = KFold(n_splits=k_folds, shuffle=True, random_state=random_seed)"
   ]
  },
  {
   "cell_type": "code",
   "execution_count": null,
   "metadata": {},
   "outputs": [
    {
     "name": "stdout",
     "output_type": "stream",
     "text": [
      "--------------------------------------------------\n",
      "FOLD 1/3:\n",
      "--------------------------------------------------\n",
      "Epoch 1/3 Training Loss: 0.7384404937426249\n",
      "Epoch 1/3 Test Loss: 0.7334633588790893\n",
      "Epoch 2/3 Training Loss: 0.735966960589091\n",
      "Epoch 2/3 Test Loss: 0.7225316643714905\n",
      "Epoch 3/3 Training Loss: 0.7332419355710348\n",
      "Epoch 3/3 Test Loss: 0.7031681656837463\n",
      "--------------------------------------------------\n",
      "FOLD 1/3: Test Results\n",
      "--------------------------------------------------\n",
      "TP: 22, TN: 0, FP: 45, FN: 0, total: 67\n",
      "Accuracy: 0.3283582089552239\n",
      "Precision: 0.3283582089552239\n",
      "Sensitivity: 1.0\n",
      "Specificity: 0.0\n",
      "F1: 0.4943820224719101\n",
      "--------------------------------------------------\n",
      "FOLD 2/3:\n",
      "--------------------------------------------------\n",
      "Epoch 1/3 Training Loss: 0.6739108562469482\n",
      "Epoch 1/3 Test Loss: 0.6835095167160035\n",
      "Epoch 2/3 Training Loss: 0.6726415753364563\n",
      "Epoch 2/3 Test Loss: 0.6755274295806885\n",
      "Epoch 3/3 Training Loss: 0.6734017001258003\n",
      "Epoch 3/3 Test Loss: 0.6702242612838745\n",
      "--------------------------------------------------\n",
      "FOLD 2/3: Test Results\n",
      "--------------------------------------------------\n",
      "TP: 0, TN: 43, FP: 0, FN: 24, total: 67\n",
      "Accuracy: 0.6417910447761194\n",
      "Precision: 0\n",
      "Sensitivity: 0.0\n",
      "Specificity: 1.0\n",
      "F1: 0\n",
      "--------------------------------------------------\n",
      "FOLD 3/3:\n",
      "--------------------------------------------------\n",
      "Epoch 1/3 Training Loss: 0.7278987036810981\n",
      "Epoch 1/3 Test Loss: 0.702669358253479\n",
      "Epoch 2/3 Training Loss: 0.7284075087971158\n",
      "Epoch 2/3 Test Loss: 0.664668345451355\n"
     ]
    }
   ],
   "source": [
    "# Train model for k folds, with e epochs each\n",
    "# TODO: Implement \"On each fold we utilized the early-stopping technique\n",
    "# where a small subset of the training fold was utilized as a validation dataset.\"\n",
    "for fold, (train_indices, test_indices) in enumerate(kfold.split(dataset)):\n",
    "    print('-' * 50)\n",
    "    print(f'FOLD {fold+1}/{k_folds}:')\n",
    "    print('-' * 50)\n",
    "    \n",
    "    # Sample elements randomly from selected train/test indices\n",
    "    train_subsampler = torch.utils.data.SubsetRandomSampler(train_indices)\n",
    "    test_subsampler = torch.utils.data.SubsetRandomSampler(test_indices)\n",
    "    \n",
    "    # Get DataLoaders for training and test sets\n",
    "    trainloader = torch.utils.data.DataLoader(dataset, \n",
    "                                              batch_size=batch_size, \n",
    "                                              sampler=train_subsampler)\n",
    "    \n",
    "    testloader = torch.utils.data.DataLoader(dataset,\n",
    "                                             batch_size=batch_size, \n",
    "                                             sampler=test_subsampler)\n",
    "    \n",
    "    train_losses.append([])\n",
    "    test_losses.append([])\n",
    "    \n",
    "    # Instantiate model\n",
    "    model = LBFCNNLight().to(device)\n",
    "    \n",
    "    # Define criterion (function used to compute loss) and optimizer for model\n",
    "    criterion = nn.CrossEntropyLoss().to(device)\n",
    "    optimizer = optim.Adam(model.parameters(), lr=0.001)\n",
    "    \n",
    "    # ---------- Run for x epochs on training set and test set ----------\n",
    "    for epoch in range(epochs):\n",
    "        \n",
    "        for phase in ['train', 'test']:\n",
    "            if phase == 'train':\n",
    "                model.train()\n",
    "                dataloader = trainloader\n",
    "            else:\n",
    "                model.eval()\n",
    "                dataloader = testloader\n",
    "\n",
    "            running_loss = 0.0\n",
    "            running_corrects = 0\n",
    "            total_batch_count = 0\n",
    "\n",
    "            for inputs, labels in dataloader:\n",
    "                # Get the inputs; data is a list of [images, labels]\n",
    "                inputs = inputs.to(device)\n",
    "                labels = labels.to(device)\n",
    "\n",
    "                # Forward pass\n",
    "                outputs = model(inputs)\n",
    "                loss = criterion(outputs, labels)\n",
    "\n",
    "                if phase == 'train':\n",
    "                    # Backpropagation\n",
    "                    optimizer.zero_grad() # Reset gradients from previous passes\n",
    "                    loss.backward() # Compute gradients using derivative of loss\n",
    "                    optimizer.step() # Update values using gradients\n",
    "                \n",
    "                total_batch_count += 1 # Increment number of finished batches\n",
    "                running_loss += loss.item() # Add batch loss to current epoch loss\n",
    "\n",
    "            running_loss /= total_batch_count\n",
    "            \n",
    "            if phase == 'train':\n",
    "                train_losses[fold].append(running_loss)\n",
    "                print(f\"Epoch {epoch+1}/{epochs} Training Loss: {running_loss}\")\n",
    "            else:\n",
    "                test_losses[fold].append(running_loss)\n",
    "                print(f\"Epoch {epoch+1}/{epochs} Test Loss: {running_loss}\")\n",
    "                  \n",
    "    # ---------- Get performance metrics for this fold ----------\n",
    "    print('-' * 50)\n",
    "    print(f'FOLD {fold+1}/{k_folds}: Test Results')\n",
    "    print('-' * 50)\n",
    "\n",
    "    true_pos = 0\n",
    "    true_neg = 0\n",
    "    false_pos = 0\n",
    "    false_neg = 0\n",
    "    total = 0\n",
    "    \n",
    "    model.eval()\n",
    "    with torch.no_grad():\n",
    "        for batch_index, batch_data in enumerate(testloader):\n",
    "            # Get the inputs; data is a list of [images, labels]\n",
    "            images, labels = batch_data\n",
    "            images = images.to(device)\n",
    "            labels = labels.to(device)\n",
    "\n",
    "            # Forward pass\n",
    "            predictions = model(images)\n",
    "\n",
    "            # Set total and correct\n",
    "            _, predicted = torch.max(input=predictions, dim=1) # Get list of predicted classes\n",
    "            \n",
    "            # Get how many classes there were in this batch\n",
    "            total += labels.size(0)\n",
    "            \n",
    "            # Get true positive, true negative, false positive, and false negative counts\n",
    "            for index in range(len(labels)):\n",
    "                true_pos = true_pos+1 if (predicted[index] == 1 and labels[index] == 1) else true_pos\n",
    "                true_neg = true_neg+1 if (predicted[index] == 0 and labels[index] == 0) else true_neg\n",
    "                false_pos = false_pos+1 if (predicted[index] == 1 and labels[index] == 0) else false_pos\n",
    "                false_neg = false_neg+1 if (predicted[index] == 0 and labels[index] == 1) else false_neg\n",
    "    \n",
    "    print(f\"TP: {true_pos}, TN: {true_neg}, FP: {false_pos}, FN: {false_neg}, total: {total}\")\n",
    "    \n",
    "    # Get evaluation metrics\n",
    "    # accuracy: (tp + tn) / (p + n)\n",
    "    accuracy = (true_pos + true_neg)/total if total != 0 else 0\n",
    "    print(f\"Accuracy: {accuracy}\")\n",
    "    results_accuracy.append(accuracy)\n",
    "    \n",
    "    # precision tp / (tp + fp)\n",
    "    precision = true_pos/(true_pos + false_pos) if (true_pos + false_pos) != 0 else 0\n",
    "    print(f\"Precision: {precision}\")\n",
    "    results_precision.append(precision)\n",
    "    \n",
    "    # sensitivity: tp / (tp + fn)\n",
    "    sensitivity = true_pos/(true_pos + false_neg) if (true_pos + false_neg) != 0 else 0\n",
    "    print(f\"Sensitivity: {sensitivity}\")\n",
    "    results_sensitivity.append(sensitivity)\n",
    "    \n",
    "    # specificity: tn / (tn + fp)\n",
    "    specificity = true_neg/(true_neg + false_pos) if (true_neg + false_pos) != 0 else 0\n",
    "    print(f\"Specificity: {specificity}\")\n",
    "    results_specificity.append(specificity)\n",
    "    \n",
    "    # f1: 2(precision * recall)/(precision + recall)\n",
    "    f1 = 2 * (precision * sensitivity)/(precision + sensitivity) if (precision + sensitivity) != 0 else 0\n",
    "    print(f\"F1: {f1}\")\n",
    "    results_f1.append(f1)"
   ]
  },
  {
   "cell_type": "markdown",
   "metadata": {},
   "source": [
    "### Save Model"
   ]
  },
  {
   "cell_type": "code",
   "execution_count": null,
   "metadata": {},
   "outputs": [],
   "source": [
    "# Print tensor sizes per layer in model\n",
    "print(\"Model's state_dict:\")\n",
    "for param_tensor in model.state_dict():\n",
    "    print(param_tensor, \"\\t\", model.state_dict()[param_tensor].size())"
   ]
  },
  {
   "cell_type": "code",
   "execution_count": null,
   "metadata": {},
   "outputs": [],
   "source": [
    "# Print optimizer's state_dict\n",
    "print(\"Optimizer's state_dict:\")\n",
    "for var_name in optimizer.state_dict():\n",
    "    print(var_name, \"\\t\", optimizer.state_dict()[var_name])"
   ]
  },
  {
   "cell_type": "code",
   "execution_count": null,
   "metadata": {},
   "outputs": [],
   "source": [
    "# Save model for inference and save entire model\n",
    "torch.save(model.state_dict(), 'weights/lbfcnn_weights.h5')\n",
    "torch.save(model, 'models/lbfcnn.pth')"
   ]
  },
  {
   "cell_type": "markdown",
   "metadata": {},
   "source": [
    "### Evaluate Model"
   ]
  },
  {
   "cell_type": "code",
   "execution_count": null,
   "metadata": {},
   "outputs": [],
   "source": [
    "# Plot train losses\n",
    "ax = plt.axes()\n",
    "for fold_losses in train_losses:\n",
    "    plt.plot(fold_losses)\n",
    "plt.title('Training Loss Evaluation per fold')\n",
    "plt.xlabel('Epoch')\n",
    "plt.ylabel('Magnitude')\n",
    "plt.legend(['Fold ' + str(x) for x in range(1, 11)])\n",
    "plt.show()"
   ]
  },
  {
   "cell_type": "code",
   "execution_count": null,
   "metadata": {},
   "outputs": [],
   "source": [
    "# Plot test losses\n",
    "ax = plt.axes()\n",
    "for fold_losses in test_losses:\n",
    "    plt.plot(fold_losses)\n",
    "plt.title('Test Loss Evaluation per fold')\n",
    "plt.xlabel('Epoch')\n",
    "plt.ylabel('Magnitude')\n",
    "plt.legend(['Fold ' + str(x) for x in range(1, 11)])\n",
    "plt.show()"
   ]
  },
  {
   "cell_type": "code",
   "execution_count": null,
   "metadata": {},
   "outputs": [],
   "source": [
    "# Get performance metrics by calculcating average of metrics across all folds\n",
    "print(\"Final Performance Metrics\")\n",
    "print(f\"Accuracy: {np.mean(results_accuracy)}\")\n",
    "print(f\"Precision: {np.mean(results_precision)}\")\n",
    "print(f\"Sensitivity: {np.mean(results_sensitivity)}\")\n",
    "print(f\"Specificity: {np.mean(results_specificity)}\")\n",
    "print(f\"F1: {np.mean(results_f1)}\")"
   ]
  },
  {
   "cell_type": "markdown",
   "metadata": {},
   "source": [
    "### Show Predictions on Sample Images"
   ]
  },
  {
   "cell_type": "code",
   "execution_count": null,
   "metadata": {},
   "outputs": [],
   "source": [
    "sample_img_names = [\"0000-0-A.tif\", \"0163-0-P.tif\", \"0198-0-A.tif\"]\n",
    "sample_img_paths = [(data_dir + \"/\" + sample_img_names[i]) for i in range(len(sample_img_names))]\n",
    "sample_classes = [sample_img_names[i][5] for i in range(len(sample_img_names))]\n",
    "sample_ground_truths = [\"No Metastasis\" if sample_classes[i] == 0 else \"Metastasis\" for i in range(len(sample_img_names))]\n",
    "sample_imgs = [Image.open(img_path).convert('RGB') for img_path in sample_img_paths]\n",
    "sample_imgs_show = [Image.open(img_path) for img_path in sample_img_paths]"
   ]
  },
  {
   "cell_type": "code",
   "execution_count": null,
   "metadata": {},
   "outputs": [],
   "source": [
    "validation_batch = torch.stack([preprocess(img).to(device) for img in sample_imgs])"
   ]
  },
  {
   "cell_type": "code",
   "execution_count": null,
   "metadata": {},
   "outputs": [],
   "source": [
    "sample_preds= model(validation_batch).detach().cpu().data.numpy()\n",
    "sample_preds"
   ]
  },
  {
   "cell_type": "code",
   "execution_count": null,
   "metadata": {},
   "outputs": [],
   "source": [
    "fig, axs = plt.subplots(1, len(sample_imgs_show), figsize=(20, 5))\n",
    "for i, img in enumerate(sample_imgs_show):\n",
    "    ax = axs[i]\n",
    "    ax.axis('off')\n",
    "    ax.set_title(\"Prediction: {:.0f}% No Metastasis, {:.0f}% Metastasis \\n Ground Truth: {}\"\n",
    "                 .format(100*sample_preds[i,0], 100*sample_preds[i,1], sample_ground_truths[i]))\n",
    "    ax.imshow(img)"
   ]
  },
  {
   "cell_type": "code",
   "execution_count": null,
   "metadata": {
    "scrolled": true
   },
   "outputs": [],
   "source": [
    "# NOTE: Due to lack of library support for CUDA, this will error if using CUDA\n",
    "# Get computational complexity\n",
    "model = model.to(\"cpu\")\n",
    "stat(model, (3, 646, 220))"
   ]
  }
 ],
 "metadata": {
  "kernelspec": {
   "display_name": "Python 3 (ipykernel)",
   "language": "python",
   "name": "python3"
  },
  "language_info": {
   "codemirror_mode": {
    "name": "ipython",
    "version": 3
   },
   "file_extension": ".py",
   "mimetype": "text/x-python",
   "name": "python",
   "nbconvert_exporter": "python",
   "pygments_lexer": "ipython3",
   "version": "3.10.9"
  }
 },
 "nbformat": 4,
 "nbformat_minor": 2
}
