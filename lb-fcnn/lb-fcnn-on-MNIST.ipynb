{
 "cells": [
  {
   "cell_type": "markdown",
   "metadata": {},
   "source": [
    "# Lightweight LB-FCNN on MNIST"
   ]
  },
  {
   "cell_type": "markdown",
   "metadata": {},
   "source": [
    "### Import Libraries"
   ]
  },
  {
   "cell_type": "code",
   "execution_count": null,
   "metadata": {},
   "outputs": [],
   "source": [
    "!pip install torchstat"
   ]
  },
  {
   "cell_type": "code",
   "execution_count": null,
   "metadata": {
    "vscode": {
     "languageId": "plaintext"
    }
   },
   "outputs": [],
   "source": [
    "import os\n",
    "import numpy as np\n",
    "import pandas as pd\n",
    "from PIL import Image\n",
    "from io import StringIO\n",
    "from matplotlib import pyplot as plt\n",
    "import torch\n",
    "import torch.nn as nn\n",
    "import torch.nn.functional as F\n",
    "import torch.optim as optim\n",
    "from torchvision import datasets, transforms, models\n",
    "from torchvision.utils import make_grid\n",
    "from torch.utils.data import Dataset, DataLoader\n",
    "from torch.utils.data.sampler import SubsetRandomSampler\n",
    "from sklearn.model_selection import KFold\n",
    "from sklearn.metrics import accuracy_score, precision_score, recall_score, f1_score\n",
    "from torchstat import stat\n",
    "from torchsummary import summary"
   ]
  },
  {
   "cell_type": "markdown",
   "metadata": {},
   "source": [
    "### Define Variables & Helper Functions"
   ]
  },
  {
   "cell_type": "code",
   "execution_count": null,
   "metadata": {},
   "outputs": [],
   "source": [
    "# Set seed for random number generation to create reproducible results\n",
    "random_seed = 5\n",
    "torch.manual_seed(random_seed)"
   ]
  },
  {
   "cell_type": "markdown",
   "metadata": {},
   "source": [
    "### Load Data"
   ]
  },
  {
   "cell_type": "code",
   "execution_count": null,
   "metadata": {},
   "outputs": [],
   "source": [
    "training_data = datasets.MNIST(\n",
    "    root='data',\n",
    "    train=True,\n",
    "    download=True,\n",
    "    transform=transforms.Compose([\n",
    "        transforms.Grayscale(3), # convert from 1 grayscale channel to 3 RGB channels\n",
    "        transforms.ToTensor()] \n",
    "    )\n",
    ")\n",
    "\n",
    "test_data = datasets.MNIST(\n",
    "    root='data',\n",
    "    train=False,\n",
    "    download=True,\n",
    "    transform=transforms.Compose([\n",
    "        transforms.Grayscale(3), # convert from 1 grayscale channel to 3 RGB channels\n",
    "        transforms.ToTensor()] \n",
    "    )\n",
    ")"
   ]
  },
  {
   "cell_type": "markdown",
   "metadata": {},
   "source": [
    "### Define Model"
   ]
  },
  {
   "cell_type": "code",
   "execution_count": null,
   "metadata": {},
   "outputs": [],
   "source": [
    "# Model hyperparameters; epochs & batch size from Magboo & Abu\n",
    "epochs = 3 # 100\n",
    "batch_size = 16"
   ]
  },
  {
   "cell_type": "code",
   "execution_count": null,
   "metadata": {},
   "outputs": [],
   "source": [
    "# Image channels - 3 for R, G, B feature maps\n",
    "channels = 3"
   ]
  },
  {
   "cell_type": "code",
   "execution_count": null,
   "metadata": {},
   "outputs": [],
   "source": [
    "# Depthwise Separable Convolution\n",
    "class DSConv(nn.Module):\n",
    "    # Define layers\n",
    "    def __init__(self, kernel_size):\n",
    "        super(DSConv, self).__init__()\n",
    "        self.depthwise_conv = nn.Conv2d(in_channels = channels, out_channels = channels, padding = 'same',\n",
    "                                        kernel_size = kernel_size, bias = False, groups = channels)\n",
    "        self.pointwise_conv = nn.Conv2d(in_channels = channels, out_channels = 1, \n",
    "                                        kernel_size = 1, bias = False)\n",
    "\n",
    "    # Apply layers\n",
    "    def forward(self, x):\n",
    "        x = F.leaky_relu(self.depthwise_conv(x))\n",
    "        x = F.leaky_relu(self.pointwise_conv(x))\n",
    "        \n",
    "        return x"
   ]
  },
  {
   "cell_type": "code",
   "execution_count": null,
   "metadata": {},
   "outputs": [],
   "source": [
    "# Multiscale Depthwise Separable Convolution module\n",
    "class MDSConv(nn.Module):\n",
    "    # Define layers\n",
    "    def __init__(self):\n",
    "        super(MDSConv, self).__init__()\n",
    "        self.conv = nn.Conv2d(in_channels = channels, out_channels = channels, kernel_size = 1, bias = False)\n",
    "        self.norm1 = nn.BatchNorm2d(num_features = channels)\n",
    "        self.norm2 = nn.BatchNorm2d(num_features = 1)\n",
    "        self.ds_conv1 = DSConv(kernel_size = 3)\n",
    "        self.ds_conv2 = DSConv(kernel_size = 5)\n",
    "        self.ds_conv3 = DSConv(kernel_size = 7)\n",
    "        \n",
    "    # Apply layers\n",
    "    def forward(self, x):\n",
    "        x = F.leaky_relu(self.conv(x))\n",
    "        x = self.norm1(x)\n",
    "        \n",
    "        # Depthwise separable convolution with 3x3 kernel\n",
    "        x1 = self.ds_conv1(x)\n",
    "        x1 = self.norm2(x1)\n",
    "        \n",
    "        # Depthwise separable convolution with 5x5 kernel\n",
    "        x2 = self.ds_conv2(x)\n",
    "        x2 = self.norm2(x2)\n",
    "        \n",
    "        # Depthwise separable convolution with 7x7 kernel\n",
    "        x3 = self.ds_conv3(x)\n",
    "        x3 = self.norm2(x3)\n",
    "        \n",
    "        x = torch.concat((x1, x2, x3), dim = 1)\n",
    "        x = self.norm1(x)\n",
    "        x = F.leaky_relu(self.conv(x))\n",
    "        \n",
    "        return x"
   ]
  },
  {
   "cell_type": "code",
   "execution_count": null,
   "metadata": {},
   "outputs": [],
   "source": [
    "# Residual Connection module\n",
    "class ResConnection(nn.Module):\n",
    "    # Define layers\n",
    "    def __init__(self):\n",
    "        super(ResConnection, self).__init__()\n",
    "        self.conv = nn.Conv2d(in_channels = channels, out_channels = channels, kernel_size = 1, bias = False)\n",
    "        self.norm = nn.BatchNorm2d(num_features = channels)\n",
    "\n",
    "    # Apply layers\n",
    "    def forward(self, x):\n",
    "        x = F.leaky_relu(self.conv(x))\n",
    "        x = self.norm(x)\n",
    "        \n",
    "        return x"
   ]
  },
  {
   "cell_type": "code",
   "execution_count": null,
   "metadata": {},
   "outputs": [],
   "source": [
    "# The main building block of LB-FCNN light architecture\n",
    "class LBFCNNLightBlock(nn.Module):\n",
    "    # Define layers\n",
    "    def __init__(self):\n",
    "        super(LBFCNNLightBlock, self).__init__()\n",
    "        self.mdsc = MDSConv()\n",
    "        self.rc = ResConnection()\n",
    "        self.conv = nn.Conv2d(in_channels = channels, out_channels = channels, kernel_size = 1, bias = False)\n",
    "        self.norm = nn.BatchNorm2d(num_features = channels)\n",
    "        \n",
    "    # Apply layers\n",
    "    def forward(self, x):\n",
    "        x_mdsc = self.mdsc(x)\n",
    "        x_rc = self.rc(x)\n",
    "        x = torch.add(x_mdsc, x_rc)\n",
    "        x = F.leaky_relu(self.conv(x))\n",
    "        x = self.norm(x)\n",
    "        \n",
    "        return x"
   ]
  },
  {
   "cell_type": "code",
   "execution_count": null,
   "metadata": {},
   "outputs": [],
   "source": [
    "# Create LB-FCNN light model\n",
    "class LBFCNNLight(nn.Module):\n",
    "    # Define layers\n",
    "    def __init__(self):\n",
    "        super().__init__()\n",
    "        self.mdsc = MDSConv()\n",
    "        self.lbfcnn_block = LBFCNNLightBlock()\n",
    "        self.pool = nn.Conv2d(in_channels = channels, out_channels = channels, \n",
    "                              kernel_size = 2, stride = 2, bias = False)\n",
    "        self.fc = nn.Linear(in_features = channels, out_features = 10)\n",
    "        # TODO: Fix pool; paper says kernel size=3, but kernel=3 results in tensor shapes that don't match the paper diagram\n",
    "        # Some other value somewhere must be excess by 1\n",
    "        \n",
    "        # TODO: Fix feature maps here don't match feature maps in paper diagram\n",
    "        \n",
    "    # Apply layers\n",
    "    def forward(self, x):\n",
    "        x = self.mdsc(x)\n",
    "        x = self.pool(x)\n",
    "        x = self.lbfcnn_block(x)\n",
    "        x = self.pool(x)\n",
    "        x = self.lbfcnn_block(x)\n",
    "        x = self.pool(x)\n",
    "        x = self.lbfcnn_block(x)\n",
    "        x = self.pool(x)\n",
    "        x = F.adaptive_avg_pool2d(x, (1, 1))\n",
    "        x = torch.flatten(input = x, start_dim = 1)\n",
    "        x = self.fc(x)\n",
    "        x = F.softmax(input = x, dim = 1)\n",
    "        \n",
    "        return x"
   ]
  },
  {
   "cell_type": "code",
   "execution_count": null,
   "metadata": {},
   "outputs": [],
   "source": [
    "# Allocate tensors to the device used for computation\n",
    "device = \"cuda\" if torch.cuda.is_available() else \"cpu\"\n",
    "print(f\"Performing torch operations on {device} device\")"
   ]
  },
  {
   "cell_type": "code",
   "execution_count": null,
   "metadata": {},
   "outputs": [],
   "source": [
    "# Inspect model shapes per layer\n",
    "model = LBFCNNLight().to(device)\n",
    "summary(model, (3, 646, 220))"
   ]
  },
  {
   "cell_type": "markdown",
   "metadata": {},
   "source": [
    "### Train Model"
   ]
  },
  {
   "cell_type": "code",
   "execution_count": null,
   "metadata": {},
   "outputs": [],
   "source": [
    "# Evaluation metrics\n",
    "results_accuracy = []\n",
    "results_precision = []\n",
    "results_sensitivity = []\n",
    "results_specificity = []\n",
    "results_f1 = []\n",
    "train_losses = []\n",
    "test_losses = []"
   ]
  },
  {
   "cell_type": "code",
   "execution_count": null,
   "metadata": {},
   "outputs": [],
   "source": [
    "# Train model for k folds, with e epochs each \n",
    "trainloader = DataLoader(training_data, batch_size=batch_size)\n",
    "testloader = DataLoader(test_data, batch_size=batch_size)\n",
    "    \n",
    "train_losses.append([])\n",
    "test_losses.append([])\n",
    "    \n",
    "# Instantiate model\n",
    "model = LBFCNNLight().to(device)\n",
    "    \n",
    "# Define criterion (function used to compute loss) and optimizer for model\n",
    "criterion = nn.NLLLoss().to(device)\n",
    "optimizer = optim.Adam(model.parameters(), lr=0.001)\n",
    "    \n",
    "# ---------- Run for x epochs on training set and test set ----------\n",
    "for epoch in range(epochs):\n",
    "        \n",
    "    for phase in ['train', 'test']:\n",
    "        if phase == 'train':\n",
    "            model.train()\n",
    "            dataloader = trainloader\n",
    "        else:\n",
    "            model.eval()\n",
    "            dataloader = testloader\n",
    "            \n",
    "        running_loss = 0.0\n",
    "        running_corrects = 0\n",
    "        total_batch_count = 0\n",
    "\n",
    "        for inputs, labels in dataloader:\n",
    "            # Get the inputs; data is a list of [images, labels]\n",
    "            inputs = inputs.to(device)\n",
    "            labels = labels.to(device)\n",
    "\n",
    "            # Forward pass\n",
    "            outputs = model(inputs)\n",
    "            loss = criterion(outputs, labels)\n",
    "\n",
    "            if phase == 'train':\n",
    "                # Backpropagation\n",
    "                optimizer.zero_grad() # Reset gradients from previous passes\n",
    "                loss.backward() # Compute gradients using derivative of loss\n",
    "                optimizer.step() # Update values using gradients\n",
    "                \n",
    "            total_batch_count += 1 # Increment number of finished batches\n",
    "            running_loss += loss.item() # Add batch loss to current epoch loss\n",
    "\n",
    "        running_loss /= total_batch_count\n",
    "            \n",
    "        if phase == 'train':\n",
    "            train_losses[0].append(running_loss)\n",
    "            print(f\"Epoch {epoch+1}/{epochs} Training Loss: {running_loss}\")\n",
    "        else:\n",
    "            test_losses[0].append(running_loss)\n",
    "            print(f\"Epoch {epoch+1}/{epochs} Test Loss: {running_loss}\")\n",
    "                  \n",
    "# ---------- Get performance metrics for this fold ----------\n",
    "correct = 0\n",
    "incorrect = 0\n",
    "total = 0\n",
    "    \n",
    "model.eval()\n",
    "with torch.no_grad():\n",
    "    for batch_index, batch_data in enumerate(testloader):\n",
    "        # Get the inputs; data is a list of [images, labels]\n",
    "        images, labels = batch_data\n",
    "        images = images.to(device)\n",
    "        labels = labels.to(device)\n",
    "\n",
    "        # Forward pass\n",
    "        predictions = model(images)\n",
    "\n",
    "        # Set total and correct\n",
    "        _, predicted = torch.max(input=predictions, dim=1) # Get list of predicted classes\n",
    "            \n",
    "        # Get how many classes there were in this batch\n",
    "        total += labels.size(0)\n",
    "            \n",
    "        # Get true positive, true negative, false positive, and false negative counts\n",
    "        for index in range(len(labels)):\n",
    "            correct = correct+1 if (predicted[index] == labels[index]) else correct\n",
    "            incorrect = incorrect+1 if (predicted[index] != labels[index]) else incorrect\n",
    "\n",
    "print(f\"correct: {correct}, incorrect: {incorrect}, total: {total}\")\n",
    "    \n",
    "# Get evaluation metrics\n",
    "accuracy = correct/total if total != 0 else 0\n",
    "print(f\"Accuracy: {accuracy}\")\n",
    "results_accuracy.append(accuracy)"
   ]
  },
  {
   "cell_type": "markdown",
   "metadata": {},
   "source": [
    "### Save Model"
   ]
  },
  {
   "cell_type": "code",
   "execution_count": null,
   "metadata": {},
   "outputs": [],
   "source": [
    "# Print tensor sizes per layer in model\n",
    "print(\"Model's state_dict:\")\n",
    "for param_tensor in model.state_dict():\n",
    "    print(param_tensor, \"\\t\", model.state_dict()[param_tensor].size())"
   ]
  },
  {
   "cell_type": "code",
   "execution_count": null,
   "metadata": {},
   "outputs": [],
   "source": [
    "# Print optimizer's state_dict\n",
    "print(\"Optimizer's state_dict:\")\n",
    "for var_name in optimizer.state_dict():\n",
    "    print(var_name, \"\\t\", optimizer.state_dict()[var_name])"
   ]
  },
  {
   "cell_type": "code",
   "execution_count": null,
   "metadata": {},
   "outputs": [],
   "source": [
    "torch.save(model.state_dict(), 'weights/lbfcnn_weights.h5')"
   ]
  },
  {
   "cell_type": "markdown",
   "metadata": {},
   "source": [
    "### Evaluate Model"
   ]
  },
  {
   "cell_type": "code",
   "execution_count": null,
   "metadata": {},
   "outputs": [],
   "source": [
    "# Plot train losses\n",
    "ax = plt.axes()\n",
    "for fold_losses in train_losses:\n",
    "    plt.plot(fold_losses)\n",
    "plt.title('Training Loss Evaluation')\n",
    "plt.xlabel('Epoch')\n",
    "plt.ylabel('Magnitude')\n",
    "plt.show()"
   ]
  },
  {
   "cell_type": "code",
   "execution_count": null,
   "metadata": {},
   "outputs": [],
   "source": [
    "# Plot test losses\n",
    "ax = plt.axes()\n",
    "for fold_losses in test_losses:\n",
    "    plt.plot(fold_losses)\n",
    "plt.title('Test Loss Evaluation')\n",
    "plt.xlabel('Epoch')\n",
    "plt.ylabel('Magnitude')\n",
    "plt.show()"
   ]
  },
  {
   "cell_type": "code",
   "execution_count": null,
   "metadata": {},
   "outputs": [],
   "source": [
    "# Get performance metrics by calculcating average of metrics across all folds\n",
    "print(\"Final Performance Metrics\")\n",
    "print(f\"Accuracy: {np.mean(results_accuracy)}\")"
   ]
  },
  {
   "cell_type": "markdown",
   "metadata": {},
   "source": [
    "### Show Predictions on Sample Images"
   ]
  },
  {
   "cell_type": "code",
   "execution_count": null,
   "metadata": {},
   "outputs": [],
   "source": [
    "sample_img_names = [\"0000-0-A.tif\", \"0163-0-P.tif\", \"0198-0-A.tif\"]\n",
    "sample_img_paths = [(data_dir + \"/\" + sample_img_names[i]) for i in range(len(sample_img_names))]\n",
    "sample_classes = [sample_img_names[i][5] for i in range(len(sample_img_names))]\n",
    "sample_ground_truths = [\"No Metastasis\" if sample_classes[i] == 0 else \"Metastasis\" for i in range(len(sample_img_names))]\n",
    "sample_imgs = [Image.open(img_path).convert('RGB') for img_path in sample_img_paths]\n",
    "sample_imgs_show = [Image.open(img_path) for img_path in sample_img_paths]"
   ]
  },
  {
   "cell_type": "code",
   "execution_count": null,
   "metadata": {},
   "outputs": [],
   "source": [
    "validation_batch = torch.stack([preprocess(img).to(device) for img in sample_imgs])"
   ]
  },
  {
   "cell_type": "code",
   "execution_count": null,
   "metadata": {},
   "outputs": [],
   "source": [
    "sample_preds= model(validation_batch).detach().cpu().data.numpy()\n",
    "sample_preds"
   ]
  },
  {
   "cell_type": "code",
   "execution_count": null,
   "metadata": {},
   "outputs": [],
   "source": [
    "fig, axs = plt.subplots(1, len(sample_imgs_show), figsize=(20, 5))\n",
    "for i, img in enumerate(sample_imgs_show):\n",
    "    ax = axs[i]\n",
    "    ax.axis('off')\n",
    "    ax.set_title(\"Prediction: {:.0f}% No Metastasis, {:.0f}% Metastasis \\n Ground Truth: {}\"\n",
    "                 .format(100*sample_preds[i,0], 100*sample_preds[i,1], sample_ground_truths[i]))\n",
    "    ax.imshow(img)"
   ]
  },
  {
   "cell_type": "code",
   "execution_count": null,
   "metadata": {
    "scrolled": true
   },
   "outputs": [],
   "source": [
    "# NOTE: Due to lack of library support for CUDA, this will error if using CUDA\n",
    "# Get computational complexity\n",
    "model = model.to(\"cpu\")\n",
    "stat(model, (3, 646, 220))"
   ]
  }
 ],
 "metadata": {
  "kernelspec": {
   "display_name": "Python 3 (ipykernel)",
   "language": "python",
   "name": "python3"
  },
  "language_info": {
   "codemirror_mode": {
    "name": "ipython",
    "version": 3
   },
   "file_extension": ".py",
   "mimetype": "text/x-python",
   "name": "python",
   "nbconvert_exporter": "python",
   "pygments_lexer": "ipython3",
   "version": "3.10.9"
  }
 },
 "nbformat": 4,
 "nbformat_minor": 2
}
