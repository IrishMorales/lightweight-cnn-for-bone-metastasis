{
 "cells": [
  {
   "cell_type": "markdown",
   "metadata": {},
   "source": [
    "# MobileLookNet + Feature Fusion + Attention"
   ]
  },
  {
   "cell_type": "markdown",
   "metadata": {},
   "source": [
    "### Import Libraries"
   ]
  },
  {
   "cell_type": "code",
   "execution_count": 1,
   "metadata": {
    "vscode": {
     "languageId": "plaintext"
    }
   },
   "outputs": [
    {
     "name": "stderr",
     "output_type": "stream",
     "text": [
      "C:\\Users\\Irish\\anaconda3\\envs\\conv_env\\lib\\site-packages\\torchvision\\io\\image.py:13: UserWarning: Failed to load image Python extension: [WinError 127] No se encontró el proceso especificado\n",
      "  warn(f\"Failed to load image Python extension: {e}\")\n"
     ]
    }
   ],
   "source": [
    "import os\n",
    "import numpy as np\n",
    "import pandas as pd\n",
    "from PIL import Image\n",
    "from io import StringIO\n",
    "from matplotlib import pyplot as plt\n",
    "import torch\n",
    "import torch.nn as nn\n",
    "import torch.nn.functional as F\n",
    "import torch.optim as optim\n",
    "from torchvision import datasets, transforms, models, ops\n",
    "from torchvision.utils import make_grid\n",
    "from torch.utils.data import Dataset, DataLoader\n",
    "from torch.utils.data.sampler import SubsetRandomSampler\n",
    "from sklearn.model_selection import KFold\n",
    "from sklearn.metrics import accuracy_score, precision_score, recall_score, f1_score\n",
    "from torchstat import stat\n",
    "from torchsummary import summary\n",
    "from typing import Any, Callable, List, Optional\n",
    "from torch import nn, Tensor\n",
    "from torchvision.ops.misc import Conv2dNormActivation\n",
    "from torchvision.transforms._presets import ImageClassification\n",
    "from torchvision.utils import _log_api_usage_once\n",
    "from torchvision.models._api import Weights, WeightsEnum\n",
    "from torchvision.models._meta import _IMAGENET_CATEGORIES\n",
    "from torchvision.models._utils import _make_divisible, _ovewrite_named_param, handle_legacy_interface"
   ]
  },
  {
   "cell_type": "markdown",
   "metadata": {},
   "source": [
    "### Define Variables & Helper Functions"
   ]
  },
  {
   "cell_type": "code",
   "execution_count": 2,
   "metadata": {},
   "outputs": [
    {
     "data": {
      "text/plain": [
       "<torch._C.Generator at 0x1dbc4b71e30>"
      ]
     },
     "execution_count": 2,
     "metadata": {},
     "output_type": "execute_result"
    }
   ],
   "source": [
    "# Set seed for random number generation to create reproducible results\n",
    "random_seed = 5\n",
    "torch.manual_seed(random_seed)"
   ]
  },
  {
   "cell_type": "code",
   "execution_count": 3,
   "metadata": {},
   "outputs": [],
   "source": [
    "# Transformations to apply to inputs\n",
    "preprocess = transforms.Compose([\n",
    "    transforms.Resize(256),\n",
    "    # transforms.CenterCrop(224),\n",
    "    transforms.ToTensor(),\n",
    "    transforms.Normalize(mean=[0.485, 0.456, 0.406], std=[0.229, 0.224, 0.225]),\n",
    "])"
   ]
  },
  {
   "cell_type": "code",
   "execution_count": 4,
   "metadata": {},
   "outputs": [],
   "source": [
    "# Helper function to get ground truth class of an image\n",
    "def get_img_labels(img_dir):\n",
    "    labels = ''\n",
    "    \n",
    "    for filename in os.listdir(img_dir):\n",
    "        # If image has no metastasis\n",
    "        if (filename[5] == '0'):\n",
    "            labels += filename + \",0\\n\"\n",
    "            \n",
    "        # If image has metastasis\n",
    "        else:\n",
    "            labels += filename + \",1\\n\"\n",
    "        \n",
    "    return labels"
   ]
  },
  {
   "cell_type": "markdown",
   "metadata": {},
   "source": [
    "### Load Data"
   ]
  },
  {
   "cell_type": "code",
   "execution_count": 5,
   "metadata": {},
   "outputs": [],
   "source": [
    "data_dir = r\"../dataset-sample-flat\""
   ]
  },
  {
   "cell_type": "code",
   "execution_count": 6,
   "metadata": {},
   "outputs": [],
   "source": [
    "# Image dataset\n",
    "class CustomDataset(Dataset):\n",
    "    def __init__(self, img_dir, transform):\n",
    "        self.img_dir = img_dir\n",
    "        self.img_labels = pd.read_csv(StringIO(get_img_labels(img_dir)), sep=\",\", header=None)\n",
    "        self.transform = transform\n",
    "\n",
    "    def __len__(self):\n",
    "        return len(self.img_labels)\n",
    "\n",
    "    def __getitem__(self, idx):\n",
    "        # Generate image filepath\n",
    "        filename = self.img_labels.iloc[idx, 0]\n",
    "        img_path = self.img_dir + \"/\" + filename\n",
    "        \n",
    "        # Read and transform image\n",
    "        image = Image.open(img_path).convert(\"RGB\")\n",
    "        image = self.transform(image)\n",
    "        \n",
    "        # Determine ground truth class (metastasis or no metastasis)\n",
    "        label = self.img_labels.iloc[idx, 1]\n",
    "        return image, label"
   ]
  },
  {
   "cell_type": "code",
   "execution_count": 7,
   "metadata": {},
   "outputs": [],
   "source": [
    "# Dataset and dataloader for training data\n",
    "dataset = CustomDataset(img_dir=data_dir, transform=preprocess)\n",
    "labels = list(dataset.img_labels.iloc[:, 1])"
   ]
  },
  {
   "cell_type": "markdown",
   "metadata": {},
   "source": [
    "### Define Model"
   ]
  },
  {
   "cell_type": "code",
   "execution_count": 8,
   "metadata": {},
   "outputs": [],
   "source": [
    "# Model hyperparameters; epochs & batch size from Magboo & Abu\n",
    "k_folds = 3 # 10\n",
    "epochs = 2 # 100\n",
    "batch_size = 16"
   ]
  },
  {
   "cell_type": "code",
   "execution_count": 9,
   "metadata": {},
   "outputs": [],
   "source": [
    "# Image channels - 3 for R, G, B feature maps\n",
    "channels = 3"
   ]
  },
  {
   "cell_type": "code",
   "execution_count": 10,
   "metadata": {},
   "outputs": [],
   "source": [
    "# Multiscale Depthwise Separable Convolution module\n",
    "class MDSConv(nn.Module):\n",
    "    # Define layers\n",
    "    def __init__(\n",
    "        self,\n",
    "        in_channels: int,\n",
    "        out_channels: int,\n",
    "        stride: int = 1,\n",
    "        norm_layer: Optional[Callable[..., torch.nn.Module]] = torch.nn.BatchNorm2d,\n",
    "        activation_layer: Optional[Callable[..., torch.nn.Module]] = torch.nn.ReLU,\n",
    "    ):\n",
    "        \n",
    "        super(MDSConv, self).__init__()\n",
    "\n",
    "        # Depthwise separable convolution with 3x3 kernel\n",
    "        self.ds_conv1 = Conv2dNormActivation(\n",
    "                  in_channels,\n",
    "                  out_channels,\n",
    "                  stride=stride,\n",
    "                  kernel_size=3,\n",
    "                  groups=in_channels,\n",
    "                  norm_layer=norm_layer,\n",
    "                  activation_layer=activation_layer,\n",
    "                )\n",
    "        \n",
    "        # Depthwise separable convolution with 5x5 kernel\n",
    "        self.ds_conv2 = Conv2dNormActivation(\n",
    "                  in_channels,\n",
    "                  out_channels,\n",
    "                  stride=stride,\n",
    "                  kernel_size=5,\n",
    "                  groups=in_channels,\n",
    "                  norm_layer=norm_layer,\n",
    "                  activation_layer=activation_layer,\n",
    "                )\n",
    "        \n",
    "        # Depthwise separable convolution with 7x7 kernel\n",
    "        self.ds_conv3 = Conv2dNormActivation(\n",
    "                  in_channels,\n",
    "                  out_channels,\n",
    "                  stride=stride,\n",
    "                  kernel_size=7,\n",
    "                  groups=in_channels,\n",
    "                  norm_layer=norm_layer,\n",
    "                  activation_layer=activation_layer,\n",
    "                )\n",
    "        \n",
    "        # Pointwise convolution\n",
    "        self.conv = Conv2dNormActivation(\n",
    "                  in_channels*3,\n",
    "                  out_channels,\n",
    "                  stride=1,\n",
    "                  kernel_size=1,\n",
    "                  groups=1,\n",
    "                  norm_layer=norm_layer,\n",
    "                  activation_layer=activation_layer,\n",
    "                )\n",
    "        \n",
    "        # TODO: REMOVE\n",
    "        self.in_channels = in_channels\n",
    "        self.out_channels = out_channels\n",
    "        self.norm = nn.BatchNorm2d(num_features = out_channels)\n",
    "        self.fc = nn.Linear(in_features = channels, out_features = 2)\n",
    "        self.activation = activation_layer\n",
    "        \n",
    "    # Apply layers\n",
    "    def forward(self, x):\n",
    "        \n",
    "        # Depthwise separable convolution with 3x3 kernel\n",
    "        x1 = self.ds_conv1(x)\n",
    "        \n",
    "        # Depthwise separable convolution with 5x5 kernel\n",
    "        x2 = self.ds_conv2(x)\n",
    "        \n",
    "        # Depthwise separable convolution with 7x7 kernel\n",
    "        x3 = self.ds_conv3(x)\n",
    "        \n",
    "        x = torch.concat((x1, x2, x3), dim = 1)\n",
    "        return x"
   ]
  },
  {
   "cell_type": "code",
   "execution_count": 11,
   "metadata": {},
   "outputs": [],
   "source": [
    "# Heavily based on PyTorch source code for MobileNetv2\n",
    "# source: https://github.com/pytorch/vision/blob/main/torchvision/models/mobilenetv2.py#L67\n",
    "class InvertedResidual(nn.Module):\n",
    "    def __init__(\n",
    "        self,\n",
    "        inp: int,\n",
    "        oup: int,\n",
    "        stride: int,\n",
    "        norm_layer: Optional[Callable[..., nn.Module]] = None\n",
    "    ) -> None:\n",
    "        \n",
    "        super().__init__()\n",
    "        \n",
    "        self.stride = stride\n",
    "        if stride not in [1, 2]:\n",
    "            raise ValueError(f\"stride should be 1 or 2 instead of {stride}\")\n",
    "\n",
    "        if norm_layer is None:\n",
    "            norm_layer = nn.BatchNorm2d\n",
    "        \n",
    "        self.use_res_connect = self.stride == 1 and inp == oup\n",
    "        \n",
    "        self.conv = nn.Sequential(\n",
    "            # Multi-scale depthwise separable convolution\n",
    "                MDSConv(in_channels=inp,\n",
    "                        out_channels=inp,\n",
    "                        stride=stride,\n",
    "                        norm_layer=norm_layer,\n",
    "                        activation_layer=nn.ReLU6\n",
    "                       ),\n",
    "            \n",
    "            # Pointwise convolution; functions as dense layer\n",
    "            nn.Conv2d(inp*3, oup, 1, 1, 0, bias=False),\n",
    "            norm_layer(oup)\n",
    "        )\n",
    "        \n",
    "        self.out_channels = oup\n",
    "        self._is_cn = stride > 1\n",
    "\n",
    "    def forward(self, x: Tensor) -> Tensor:\n",
    "        if self.use_res_connect:\n",
    "            return x + self.conv(x)\n",
    "        else:\n",
    "            return self.conv(x)"
   ]
  },
  {
   "cell_type": "code",
   "execution_count": 35,
   "metadata": {},
   "outputs": [],
   "source": [
    "# Feature Fusion + Attention module\n",
    "class FeatureFusionWithAttention(nn.Module):\n",
    "    # Define layers\n",
    "    def __init__(self):\n",
    "        super(FeatureFusionWithAttention, self).__init__()\n",
    "        # Squeeze_channels is used the same way as the hyperparameter ratio r\n",
    "        # in Squeeze-and-excitation networks by Hu et al.\n",
    "        self.attention1 = ops.SqueezeExcitation(input_channels = 32, squeeze_channels = 10)\n",
    "        self.attention2 = ops.SqueezeExcitation(input_channels = 16, squeeze_channels = 10)\n",
    "        self.attention3 = ops.SqueezeExcitation(input_channels = 24, squeeze_channels = 10)\n",
    "        self.attention4 = ops.SqueezeExcitation(input_channels = 32, squeeze_channels = 10)\n",
    "        self.attention5 = ops.SqueezeExcitation(input_channels = 64, squeeze_channels = 10)\n",
    "        self.attention6 = ops.SqueezeExcitation(input_channels = 104, squeeze_channels = 10)\n",
    "        \n",
    "    # Apply layers\n",
    "    def forward(self, a, b, c, d, e, f):\n",
    "\n",
    "        # GAP on each input\n",
    "        # Note: Cannot refactor this into a loop/read from a list as it will cause incompatibility\n",
    "        # with torchstat and torchsummary\n",
    "        a = F.adaptive_avg_pool2d(a, (1, 1))\n",
    "        b = F.adaptive_avg_pool2d(b, (1, 1))\n",
    "        c = F.adaptive_avg_pool2d(c, (1, 1))\n",
    "        d = F.adaptive_avg_pool2d(d, (1, 1))\n",
    "        e = F.adaptive_avg_pool2d(e, (1, 1))\n",
    "        f = F.adaptive_avg_pool2d(f, (1, 1))\n",
    "        \n",
    "        # Attention on each input\n",
    "        a = self.attention1(a)\n",
    "        b = self.attention2(b)\n",
    "        c = self.attention3(c)\n",
    "        d = self.attention4(d)\n",
    "        e = self.attention5(e)\n",
    "        f = self.attention6(f)\n",
    "        \n",
    "        x = torch.cat((a, b, c, d, e, f), 1)\n",
    "        \n",
    "        return x"
   ]
  },
  {
   "cell_type": "code",
   "execution_count": 39,
   "metadata": {},
   "outputs": [],
   "source": [
    "# Heavily based on PyTorch source code for MobileNetv2\n",
    "# source: https://github.com/pytorch/vision/blob/main/torchvision/models/mobilenetv2.py#L67\n",
    "class MobileNetV2(nn.Module):\n",
    "    def __init__(\n",
    "        self,\n",
    "        num_classes: int = 2,\n",
    "        inverted_residual_setting: Optional[List[List[int]]] = None,\n",
    "        round_nearest: int = 8,\n",
    "        block: Optional[Callable[..., nn.Module]] = None,\n",
    "        norm_layer: Optional[Callable[..., nn.Module]] = None,\n",
    "        dropout: float = 0.2,\n",
    "    ) -> None:\n",
    "        \"\"\"\n",
    "        Args:\n",
    "            num_classes (int): Number of classes\n",
    "            inverted_residual_setting: Network structure\n",
    "            round_nearest (int): Round the number of channels in each layer to be a multiple of this number\n",
    "            Set to 1 to turn off rounding\n",
    "            block: Module specifying inverted residual building block for mobilenet\n",
    "            norm_layer: Module specifying the normalization layer to use\n",
    "            dropout (float): The droupout probability\n",
    "        \"\"\"\n",
    "        super().__init__()\n",
    "\n",
    "        if block is None:\n",
    "            block = InvertedResidual\n",
    "\n",
    "        if norm_layer is None:\n",
    "            norm_layer = nn.BatchNorm2d\n",
    "\n",
    "        input_channel = 32\n",
    "        last_channel = 100\n",
    "\n",
    "        if inverted_residual_setting is None:\n",
    "            inverted_residual_setting = [\n",
    "                # c, n, s\n",
    "                [16, 1, 1],\n",
    "                [24, 2, 2],\n",
    "                [32, 3, 2],\n",
    "                [64, 4, 2],\n",
    "            ]\n",
    "\n",
    "        # only check the first element, assuming user knows c,n,s are required\n",
    "        if len(inverted_residual_setting) == 0 or len(inverted_residual_setting[0]) != 3:\n",
    "            raise ValueError(\n",
    "                f\"inverted_residual_setting should be non-empty or a 3-element list, got {inverted_residual_setting}\"\n",
    "            )\n",
    "\n",
    "        # building first layer\n",
    "        input_channel = _make_divisible(input_channel, round_nearest)\n",
    "        self.last_channel = _make_divisible(last_channel, round_nearest)\n",
    "        features: List[nn.Module] = [\n",
    "            Conv2dNormActivation(3, input_channel, stride=2, norm_layer=norm_layer, activation_layer=nn.ReLU6)\n",
    "        ]\n",
    "            \n",
    "        # building inverted residual blocks\n",
    "        for c, n, s in inverted_residual_setting:\n",
    "            output_channel = _make_divisible(c, round_nearest)\n",
    "            for i in range(n):\n",
    "                stride = s if i == 0 else 1\n",
    "                features.append(block(input_channel, output_channel, stride, norm_layer=norm_layer))\n",
    "                input_channel = output_channel\n",
    "                \n",
    "        # building last several layers\n",
    "        features.append(\n",
    "            Conv2dNormActivation(\n",
    "                input_channel, self.last_channel, kernel_size=1, norm_layer=norm_layer, activation_layer=nn.ReLU6\n",
    "            )\n",
    "        )\n",
    "        \n",
    "        # make it nn.Sequential\n",
    "        self.features = nn.Sequential(*features)\n",
    "\n",
    "        # building classifier\n",
    "        self.classifier_in_channels = sum([original_inp, self.last_channel] + [row[0] for row in inverted_residual_setting])\n",
    "        self.classifier = nn.Sequential(\n",
    "            nn.Dropout(p=dropout),\n",
    "            nn.Linear(self.last_channel, num_classes),\n",
    "            nn.Softmax(dim = 1)\n",
    "        )\n",
    "\n",
    "        # weight initialization\n",
    "        for m in self.modules():\n",
    "            if isinstance(m, nn.Conv2d):\n",
    "                nn.init.kaiming_normal_(m.weight, mode=\"fan_out\")\n",
    "                if m.bias is not None:\n",
    "                    nn.init.zeros_(m.bias)\n",
    "            elif isinstance(m, (nn.BatchNorm2d, nn.GroupNorm)):\n",
    "                nn.init.ones_(m.weight)\n",
    "                nn.init.zeros_(m.bias)\n",
    "            elif isinstance(m, nn.Linear):\n",
    "                nn.init.normal_(m.weight, 0, 0.01)\n",
    "                nn.init.zeros_(m.bias)\n",
    "                \n",
    "        self.inverted_residual_setting = inverted_residual_setting\n",
    "        self.ffa = FeatureFusionWithAttention()\n",
    "\n",
    "    def forward(self, x: Tensor) -> Tensor:        \n",
    "\n",
    "        # Number of layers in modulelist:\n",
    "        # 1 (initial layer) + n1* + n2 + n3 ... + nk + 1 (final layer)\n",
    "        # *Refers to n in inverted_residual_setting\n",
    "        modulelist = list(self.features.modules())\n",
    "        ff_inputs = []\n",
    "        \n",
    "        # first layer\n",
    "        x = modulelist[0][0](x)\n",
    "        ff_inputs.append(x)\n",
    "            \n",
    "        # layers in inverted_residual_setting\n",
    "        start_index = 1\n",
    "        end_index = start_index + self.inverted_residual_setting[0][1]\n",
    "        \n",
    "        for row_index, row in enumerate(self.inverted_residual_setting):            \n",
    "            for layer in modulelist[0][start_index:end_index]:\n",
    "                x = layer(x)\n",
    "                \n",
    "            ff_inputs.append(x)\n",
    "            start_index = end_index\n",
    "            end_index = start_index + self.inverted_residual_setting[row_index][1] + 1\n",
    "        \n",
    "        # last layer\n",
    "        x = modulelist[0][-1](x)\n",
    "        ff_inputs.append(x)\n",
    "\n",
    "        print([x.shape for x in ff_inputs])\n",
    "        x = self.ffa(*ff_inputs)\n",
    "        x = torch.flatten(x, 1)\n",
    "        x = self.classifier(x)\n",
    "        return x"
   ]
  },
  {
   "cell_type": "code",
   "execution_count": 40,
   "metadata": {},
   "outputs": [
    {
     "name": "stdout",
     "output_type": "stream",
     "text": [
      "Performing torch operations on cpu device\n"
     ]
    }
   ],
   "source": [
    "# Allocate tensors to the device used for computation\n",
    "device = \"cuda\" if torch.cuda.is_available() else \"cpu\"\n",
    "print(f\"Performing torch operations on {device} device\")"
   ]
  },
  {
   "cell_type": "code",
   "execution_count": 41,
   "metadata": {},
   "outputs": [
    {
     "name": "stdout",
     "output_type": "stream",
     "text": [
      "[torch.Size([2, 32, 323, 110]), torch.Size([2, 16, 323, 110]), torch.Size([2, 24, 162, 55]), torch.Size([2, 32, 81, 28]), torch.Size([2, 64, 41, 14]), torch.Size([2, 104, 41, 14])]\n"
     ]
    },
    {
     "ename": "RuntimeError",
     "evalue": "mat1 and mat2 shapes cannot be multiplied (2x272 and 104x2)",
     "output_type": "error",
     "traceback": [
      "\u001b[1;31m---------------------------------------------------------------------------\u001b[0m",
      "\u001b[1;31mRuntimeError\u001b[0m                              Traceback (most recent call last)",
      "Cell \u001b[1;32mIn[41], line 3\u001b[0m\n\u001b[0;32m      1\u001b[0m \u001b[38;5;66;03m# Inspect model shapes per layer\u001b[39;00m\n\u001b[0;32m      2\u001b[0m model \u001b[38;5;241m=\u001b[39m MobileNetV2()\u001b[38;5;241m.\u001b[39mto(device)\n\u001b[1;32m----> 3\u001b[0m \u001b[43msummary\u001b[49m\u001b[43m(\u001b[49m\u001b[43mmodel\u001b[49m\u001b[43m,\u001b[49m\u001b[43m \u001b[49m\u001b[43m(\u001b[49m\u001b[38;5;241;43m3\u001b[39;49m\u001b[43m,\u001b[49m\u001b[43m \u001b[49m\u001b[38;5;241;43m646\u001b[39;49m\u001b[43m,\u001b[49m\u001b[43m \u001b[49m\u001b[38;5;241;43m220\u001b[39;49m\u001b[43m)\u001b[49m\u001b[43m)\u001b[49m\n",
      "File \u001b[1;32m~\\anaconda3\\envs\\conv_env\\lib\\site-packages\\torchsummary\\torchsummary.py:72\u001b[0m, in \u001b[0;36msummary\u001b[1;34m(model, input_size, batch_size, device)\u001b[0m\n\u001b[0;32m     68\u001b[0m model\u001b[38;5;241m.\u001b[39mapply(register_hook)\n\u001b[0;32m     70\u001b[0m \u001b[38;5;66;03m# make a forward pass\u001b[39;00m\n\u001b[0;32m     71\u001b[0m \u001b[38;5;66;03m# print(x.shape)\u001b[39;00m\n\u001b[1;32m---> 72\u001b[0m \u001b[43mmodel\u001b[49m\u001b[43m(\u001b[49m\u001b[38;5;241;43m*\u001b[39;49m\u001b[43mx\u001b[49m\u001b[43m)\u001b[49m\n\u001b[0;32m     74\u001b[0m \u001b[38;5;66;03m# remove these hooks\u001b[39;00m\n\u001b[0;32m     75\u001b[0m \u001b[38;5;28;01mfor\u001b[39;00m h \u001b[38;5;129;01min\u001b[39;00m hooks:\n",
      "File \u001b[1;32m~\\anaconda3\\envs\\conv_env\\lib\\site-packages\\torch\\nn\\modules\\module.py:1194\u001b[0m, in \u001b[0;36mModule._call_impl\u001b[1;34m(self, *input, **kwargs)\u001b[0m\n\u001b[0;32m   1190\u001b[0m \u001b[38;5;66;03m# If we don't have any hooks, we want to skip the rest of the logic in\u001b[39;00m\n\u001b[0;32m   1191\u001b[0m \u001b[38;5;66;03m# this function, and just call forward.\u001b[39;00m\n\u001b[0;32m   1192\u001b[0m \u001b[38;5;28;01mif\u001b[39;00m \u001b[38;5;129;01mnot\u001b[39;00m (\u001b[38;5;28mself\u001b[39m\u001b[38;5;241m.\u001b[39m_backward_hooks \u001b[38;5;129;01mor\u001b[39;00m \u001b[38;5;28mself\u001b[39m\u001b[38;5;241m.\u001b[39m_forward_hooks \u001b[38;5;129;01mor\u001b[39;00m \u001b[38;5;28mself\u001b[39m\u001b[38;5;241m.\u001b[39m_forward_pre_hooks \u001b[38;5;129;01mor\u001b[39;00m _global_backward_hooks\n\u001b[0;32m   1193\u001b[0m         \u001b[38;5;129;01mor\u001b[39;00m _global_forward_hooks \u001b[38;5;129;01mor\u001b[39;00m _global_forward_pre_hooks):\n\u001b[1;32m-> 1194\u001b[0m     \u001b[38;5;28;01mreturn\u001b[39;00m forward_call(\u001b[38;5;241m*\u001b[39m\u001b[38;5;28minput\u001b[39m, \u001b[38;5;241m*\u001b[39m\u001b[38;5;241m*\u001b[39mkwargs)\n\u001b[0;32m   1195\u001b[0m \u001b[38;5;66;03m# Do not call functions when jit is used\u001b[39;00m\n\u001b[0;32m   1196\u001b[0m full_backward_hooks, non_full_backward_hooks \u001b[38;5;241m=\u001b[39m [], []\n",
      "Cell \u001b[1;32mIn[39], line 128\u001b[0m, in \u001b[0;36mMobileNetV2.forward\u001b[1;34m(self, x)\u001b[0m\n\u001b[0;32m    126\u001b[0m x \u001b[38;5;241m=\u001b[39m \u001b[38;5;28mself\u001b[39m\u001b[38;5;241m.\u001b[39mffa(\u001b[38;5;241m*\u001b[39mff_inputs)\n\u001b[0;32m    127\u001b[0m x \u001b[38;5;241m=\u001b[39m torch\u001b[38;5;241m.\u001b[39mflatten(x, \u001b[38;5;241m1\u001b[39m)\n\u001b[1;32m--> 128\u001b[0m x \u001b[38;5;241m=\u001b[39m \u001b[38;5;28;43mself\u001b[39;49m\u001b[38;5;241;43m.\u001b[39;49m\u001b[43mclassifier\u001b[49m\u001b[43m(\u001b[49m\u001b[43mx\u001b[49m\u001b[43m)\u001b[49m\n\u001b[0;32m    129\u001b[0m \u001b[38;5;28;01mreturn\u001b[39;00m x\n",
      "File \u001b[1;32m~\\anaconda3\\envs\\conv_env\\lib\\site-packages\\torch\\nn\\modules\\module.py:1194\u001b[0m, in \u001b[0;36mModule._call_impl\u001b[1;34m(self, *input, **kwargs)\u001b[0m\n\u001b[0;32m   1190\u001b[0m \u001b[38;5;66;03m# If we don't have any hooks, we want to skip the rest of the logic in\u001b[39;00m\n\u001b[0;32m   1191\u001b[0m \u001b[38;5;66;03m# this function, and just call forward.\u001b[39;00m\n\u001b[0;32m   1192\u001b[0m \u001b[38;5;28;01mif\u001b[39;00m \u001b[38;5;129;01mnot\u001b[39;00m (\u001b[38;5;28mself\u001b[39m\u001b[38;5;241m.\u001b[39m_backward_hooks \u001b[38;5;129;01mor\u001b[39;00m \u001b[38;5;28mself\u001b[39m\u001b[38;5;241m.\u001b[39m_forward_hooks \u001b[38;5;129;01mor\u001b[39;00m \u001b[38;5;28mself\u001b[39m\u001b[38;5;241m.\u001b[39m_forward_pre_hooks \u001b[38;5;129;01mor\u001b[39;00m _global_backward_hooks\n\u001b[0;32m   1193\u001b[0m         \u001b[38;5;129;01mor\u001b[39;00m _global_forward_hooks \u001b[38;5;129;01mor\u001b[39;00m _global_forward_pre_hooks):\n\u001b[1;32m-> 1194\u001b[0m     \u001b[38;5;28;01mreturn\u001b[39;00m forward_call(\u001b[38;5;241m*\u001b[39m\u001b[38;5;28minput\u001b[39m, \u001b[38;5;241m*\u001b[39m\u001b[38;5;241m*\u001b[39mkwargs)\n\u001b[0;32m   1195\u001b[0m \u001b[38;5;66;03m# Do not call functions when jit is used\u001b[39;00m\n\u001b[0;32m   1196\u001b[0m full_backward_hooks, non_full_backward_hooks \u001b[38;5;241m=\u001b[39m [], []\n",
      "File \u001b[1;32m~\\anaconda3\\envs\\conv_env\\lib\\site-packages\\torch\\nn\\modules\\container.py:204\u001b[0m, in \u001b[0;36mSequential.forward\u001b[1;34m(self, input)\u001b[0m\n\u001b[0;32m    202\u001b[0m \u001b[38;5;28;01mdef\u001b[39;00m \u001b[38;5;21mforward\u001b[39m(\u001b[38;5;28mself\u001b[39m, \u001b[38;5;28minput\u001b[39m):\n\u001b[0;32m    203\u001b[0m     \u001b[38;5;28;01mfor\u001b[39;00m module \u001b[38;5;129;01min\u001b[39;00m \u001b[38;5;28mself\u001b[39m:\n\u001b[1;32m--> 204\u001b[0m         \u001b[38;5;28minput\u001b[39m \u001b[38;5;241m=\u001b[39m \u001b[43mmodule\u001b[49m\u001b[43m(\u001b[49m\u001b[38;5;28;43minput\u001b[39;49m\u001b[43m)\u001b[49m\n\u001b[0;32m    205\u001b[0m     \u001b[38;5;28;01mreturn\u001b[39;00m \u001b[38;5;28minput\u001b[39m\n",
      "File \u001b[1;32m~\\anaconda3\\envs\\conv_env\\lib\\site-packages\\torch\\nn\\modules\\module.py:1212\u001b[0m, in \u001b[0;36mModule._call_impl\u001b[1;34m(self, *input, **kwargs)\u001b[0m\n\u001b[0;32m   1209\u001b[0m     bw_hook \u001b[38;5;241m=\u001b[39m hooks\u001b[38;5;241m.\u001b[39mBackwardHook(\u001b[38;5;28mself\u001b[39m, full_backward_hooks)\n\u001b[0;32m   1210\u001b[0m     \u001b[38;5;28minput\u001b[39m \u001b[38;5;241m=\u001b[39m bw_hook\u001b[38;5;241m.\u001b[39msetup_input_hook(\u001b[38;5;28minput\u001b[39m)\n\u001b[1;32m-> 1212\u001b[0m result \u001b[38;5;241m=\u001b[39m forward_call(\u001b[38;5;241m*\u001b[39m\u001b[38;5;28minput\u001b[39m, \u001b[38;5;241m*\u001b[39m\u001b[38;5;241m*\u001b[39mkwargs)\n\u001b[0;32m   1213\u001b[0m \u001b[38;5;28;01mif\u001b[39;00m _global_forward_hooks \u001b[38;5;129;01mor\u001b[39;00m \u001b[38;5;28mself\u001b[39m\u001b[38;5;241m.\u001b[39m_forward_hooks:\n\u001b[0;32m   1214\u001b[0m     \u001b[38;5;28;01mfor\u001b[39;00m hook \u001b[38;5;129;01min\u001b[39;00m (\u001b[38;5;241m*\u001b[39m_global_forward_hooks\u001b[38;5;241m.\u001b[39mvalues(), \u001b[38;5;241m*\u001b[39m\u001b[38;5;28mself\u001b[39m\u001b[38;5;241m.\u001b[39m_forward_hooks\u001b[38;5;241m.\u001b[39mvalues()):\n",
      "File \u001b[1;32m~\\anaconda3\\envs\\conv_env\\lib\\site-packages\\torch\\nn\\modules\\linear.py:114\u001b[0m, in \u001b[0;36mLinear.forward\u001b[1;34m(self, input)\u001b[0m\n\u001b[0;32m    113\u001b[0m \u001b[38;5;28;01mdef\u001b[39;00m \u001b[38;5;21mforward\u001b[39m(\u001b[38;5;28mself\u001b[39m, \u001b[38;5;28minput\u001b[39m: Tensor) \u001b[38;5;241m-\u001b[39m\u001b[38;5;241m>\u001b[39m Tensor:\n\u001b[1;32m--> 114\u001b[0m     \u001b[38;5;28;01mreturn\u001b[39;00m \u001b[43mF\u001b[49m\u001b[38;5;241;43m.\u001b[39;49m\u001b[43mlinear\u001b[49m\u001b[43m(\u001b[49m\u001b[38;5;28;43minput\u001b[39;49m\u001b[43m,\u001b[49m\u001b[43m \u001b[49m\u001b[38;5;28;43mself\u001b[39;49m\u001b[38;5;241;43m.\u001b[39;49m\u001b[43mweight\u001b[49m\u001b[43m,\u001b[49m\u001b[43m \u001b[49m\u001b[38;5;28;43mself\u001b[39;49m\u001b[38;5;241;43m.\u001b[39;49m\u001b[43mbias\u001b[49m\u001b[43m)\u001b[49m\n",
      "\u001b[1;31mRuntimeError\u001b[0m: mat1 and mat2 shapes cannot be multiplied (2x272 and 104x2)"
     ]
    }
   ],
   "source": [
    "# Inspect model shapes per layer\n",
    "model = MobileNetV2().to(device)\n",
    "summary(model, (3, 646, 220))"
   ]
  },
  {
   "cell_type": "markdown",
   "metadata": {},
   "source": [
    "### Train Model"
   ]
  },
  {
   "cell_type": "code",
   "execution_count": null,
   "metadata": {},
   "outputs": [],
   "source": [
    "# Evaluation metrics\n",
    "results_accuracy = []\n",
    "results_precision = []\n",
    "results_sensitivity = []\n",
    "results_specificity = []\n",
    "results_f1 = []\n",
    "train_losses = []\n",
    "test_losses = []"
   ]
  },
  {
   "cell_type": "code",
   "execution_count": null,
   "metadata": {},
   "outputs": [],
   "source": [
    "# Define the K-fold Cross Validator\n",
    "kfold = KFold(n_splits=k_folds, shuffle=True, random_state=random_seed)"
   ]
  },
  {
   "cell_type": "code",
   "execution_count": null,
   "metadata": {},
   "outputs": [],
   "source": [
    "# Save checkpoint function to resume training if training is interrupted\n",
    "def save_checkpoint(model, criterion, optimizer, fold, epoch, train_losses, test_losses, trainloader, testloader):\n",
    "    filepath = \"mobilenet-lbfcnn-+-attention.pt\"\n",
    "\n",
    "    torch.save({\n",
    "            'fold': fold,\n",
    "            'epoch': epoch,\n",
    "            'model_state_dict': model.state_dict(),\n",
    "            'optimizer_state_dict': optimizer.state_dict(),\n",
    "            'criterion': criterion,\n",
    "            'train_losses': train_losses,\n",
    "            'test_losses': test_losses,\n",
    "            'trainloader': trainloader,\n",
    "            'testloader': testloader\n",
    "            }, filepath)"
   ]
  },
  {
   "cell_type": "code",
   "execution_count": null,
   "metadata": {
    "scrolled": true
   },
   "outputs": [],
   "source": [
    "# Train model for k folds, with e epochs each\n",
    "for fold, (train_indices, test_indices) in enumerate(kfold.split(dataset)):\n",
    "    print('-' * 50)\n",
    "    print(f'FOLD {fold+1}/{k_folds}:')\n",
    "    print('-' * 50)\n",
    "    \n",
    "    # Sample elements randomly from selected train/test indices\n",
    "    train_subsampler = torch.utils.data.SubsetRandomSampler(train_indices)\n",
    "    test_subsampler = torch.utils.data.SubsetRandomSampler(test_indices)\n",
    "    \n",
    "    # Get DataLoaders for training and test sets\n",
    "    trainloader = torch.utils.data.DataLoader(dataset, \n",
    "                                              batch_size=batch_size, \n",
    "                                              sampler=train_subsampler)\n",
    "    \n",
    "    testloader = torch.utils.data.DataLoader(dataset,\n",
    "                                             batch_size=batch_size, \n",
    "                                             sampler=test_subsampler)\n",
    "    \n",
    "    train_losses.append([])\n",
    "    test_losses.append([])\n",
    "    \n",
    "    # Instantiate model\n",
    "    model = MobileNetV2().to(device)\n",
    "    \n",
    "    # Define criterion (function used to compute loss) and optimizer for model\n",
    "    criterion = nn.CrossEntropyLoss().to(device)\n",
    "    optimizer = optim.Adam(model.parameters(), lr=0.001)\n",
    "    \n",
    "    # ---------- Run for x epochs on training set and test set ----------\n",
    "    for epoch in range(epochs):\n",
    "        \n",
    "        # Check class composition per fold in training and test sets\n",
    "        train_pos = 0\n",
    "        train_neg = 0\n",
    "        test_pos = 0\n",
    "        test_neg = 0\n",
    "        \n",
    "        for phase in ['train', 'test']:\n",
    "            total = 0\n",
    "            \n",
    "            if phase == 'train':\n",
    "                model.train()\n",
    "                dataloader = trainloader\n",
    "            else:\n",
    "                model.eval()\n",
    "                dataloader = testloader\n",
    "\n",
    "            running_loss = 0.0\n",
    "            running_corrects = 0\n",
    "            total_batch_count = 0\n",
    "\n",
    "            for inputs, labels in dataloader:\n",
    "                # Get the inputs; data is a list of [images, labels]\n",
    "                inputs = inputs.to(device)\n",
    "                labels = labels.to(device)\n",
    "\n",
    "                # Forward pass\n",
    "                outputs = model(inputs)\n",
    "                loss = criterion(outputs, labels)\n",
    "\n",
    "                if phase == 'train':\n",
    "                    # Backpropagation\n",
    "                    optimizer.zero_grad() # Reset gradients from previous passes\n",
    "                    loss.backward() # Compute gradients using derivative of loss\n",
    "                    optimizer.step() # Update values using gradients\n",
    "                \n",
    "                total_batch_count += 1 # Increment number of finished batches\n",
    "                running_loss += loss.item() # Add batch loss to current epoch loss\n",
    "                \n",
    "                # Check class composition per fold in training and test sets\n",
    "                total += labels.size(0)\n",
    "                if phase == 'train':\n",
    "                    for index in range(len(labels)):\n",
    "                        train_pos = train_pos+1 if labels[index] == 1 else train_pos\n",
    "                        train_neg = train_neg+1 if labels[index] == 0 else train_neg\n",
    "                else:\n",
    "                    for index in range(len(labels)):\n",
    "                        test_pos = test_pos+1 if labels[index] == 1 else test_pos\n",
    "                        test_neg = test_neg+1 if labels[index] == 0 else test_neg\n",
    "\n",
    "            running_loss /= total_batch_count\n",
    "            \n",
    "            if phase == 'train':\n",
    "                train_losses[fold].append(running_loss)\n",
    "                print(f\"Epoch {epoch+1}/{epochs} Training Loss: {running_loss}\")\n",
    "                \n",
    "                print(f\"Training total: {total}\")\n",
    "                print(f\"Training class composition: Positive: {train_pos} ({(train_pos/total)*100:.2f}%) Negative: {train_neg} ({(train_neg/total)*100:.2f}%)\")\n",
    "                \n",
    "                save_checkpoint(model=model,\n",
    "                                criterion=criterion,\n",
    "                                optimizer=optimizer,\n",
    "                                fold=fold,\n",
    "                                epoch=epoch,\n",
    "                                train_losses=train_losses,\n",
    "                                test_losses=test_losses,\n",
    "                                trainloader=trainloader,\n",
    "                                testloader=testloader)\n",
    "                \n",
    "            else:\n",
    "                test_losses[fold].append(running_loss)\n",
    "                print(f\"Epoch {epoch+1}/{epochs} Test Loss: {running_loss}\")\n",
    "                \n",
    "                print(f\"Test total: {total}\")\n",
    "                print(f\"Test class composition: Positive: {test_pos} ({(test_pos/total)*100:.2f}%) Negative: {test_neg} ({(test_neg/total)*100:.2f}%)\")\n",
    "                  \n",
    "    # ---------- Get performance metrics for this fold ----------\n",
    "    print('-' * 50)\n",
    "    print(f'FOLD {fold+1}/{k_folds}: Test Results')\n",
    "    print('-' * 50)\n",
    "\n",
    "    true_pos = 0\n",
    "    true_neg = 0\n",
    "    false_pos = 0\n",
    "    false_neg = 0\n",
    "    total = 0\n",
    "    \n",
    "    # Check class composition per fold in training and test sets\n",
    "    final_pos = 0\n",
    "    final_neg = 0\n",
    "    \n",
    "    model.eval()\n",
    "    with torch.no_grad():\n",
    "        for batch_index, batch_data in enumerate(testloader):\n",
    "            # Get the inputs; data is a list of [images, labels]\n",
    "            images, labels = batch_data\n",
    "            images = images.to(device)\n",
    "            labels = labels.to(device)\n",
    "\n",
    "            # Forward pass\n",
    "            predictions = model(images)\n",
    "\n",
    "            # Set total and correct\n",
    "            _, predicted = torch.max(input=predictions, dim=1) # Get list of predicted classes\n",
    "            \n",
    "            # Get how many classes there were in this batch\n",
    "            total += labels.size(0)\n",
    "            \n",
    "            # Get true positive, true negative, false positive, and false negative counts\n",
    "            for index in range(len(labels)):\n",
    "                true_pos = true_pos+1 if (predicted[index] == 1 and labels[index] == 1) else true_pos\n",
    "                true_neg = true_neg+1 if (predicted[index] == 0 and labels[index] == 0) else true_neg\n",
    "                false_pos = false_pos+1 if (predicted[index] == 1 and labels[index] == 0) else false_pos\n",
    "                false_neg = false_neg+1 if (predicted[index] == 0 and labels[index] == 1) else false_neg\n",
    "                \n",
    "                # Get class composition\n",
    "                final_pos = final_pos+1 if labels[index] == 1 else final_pos\n",
    "                final_neg = final_neg+1 if labels[index] == 0 else final_neg\n",
    "    \n",
    "    print(f\"Class composition: Positive: {final_pos} ({(final_pos/total)*100:.2f}%) Negative: {final_neg} ({(final_neg/total)*100:.2f}%)\")\n",
    "    print(f\"TP: {true_pos}, TN: {true_neg}, FP: {false_pos}, FN: {false_neg}, total: {total}\")\n",
    "    \n",
    "    # Get evaluation metrics\n",
    "    # accuracy: (tp + tn) / (p + n)\n",
    "    accuracy = (true_pos + true_neg)/total if total != 0 else 0\n",
    "    print(f\"Accuracy: {accuracy}\")\n",
    "    results_accuracy.append(accuracy)\n",
    "    \n",
    "    # precision tp / (tp + fp)\n",
    "    precision = true_pos/(true_pos + false_pos) if (true_pos + false_pos) != 0 else 0\n",
    "    print(f\"Precision: {precision}\")\n",
    "    results_precision.append(precision)\n",
    "    \n",
    "    # sensitivity: tp / (tp + fn)\n",
    "    sensitivity = true_pos/(true_pos + false_neg) if (true_pos + false_neg) != 0 else 0\n",
    "    print(f\"Sensitivity: {sensitivity}\")\n",
    "    results_sensitivity.append(sensitivity)\n",
    "    \n",
    "    # specificity: tn / (tn + fp)\n",
    "    specificity = true_neg/(true_neg + false_pos) if (true_neg + false_pos) != 0 else 0\n",
    "    print(f\"Specificity: {specificity}\")\n",
    "    results_specificity.append(specificity)\n",
    "    \n",
    "    # f1: 2(precision * recall)/(precision + recall)\n",
    "    f1 = 2 * (precision * sensitivity)/(precision + sensitivity) if (precision + sensitivity) != 0 else 0\n",
    "    print(f\"F1: {f1}\")\n",
    "    results_f1.append(f1)"
   ]
  },
  {
   "cell_type": "markdown",
   "metadata": {},
   "source": [
    "### Save Model"
   ]
  },
  {
   "cell_type": "code",
   "execution_count": null,
   "metadata": {},
   "outputs": [],
   "source": [
    "# Print tensor sizes per layer in model\n",
    "print(\"Model's state_dict:\")\n",
    "for param_tensor in model.state_dict():\n",
    "    print(param_tensor, \"\\t\", model.state_dict()[param_tensor].size())"
   ]
  },
  {
   "cell_type": "code",
   "execution_count": null,
   "metadata": {},
   "outputs": [],
   "source": [
    "# Print optimizer's state_dict\n",
    "print(\"Optimizer's state_dict:\")\n",
    "for var_name in optimizer.state_dict():\n",
    "    print(var_name, \"\\t\", optimizer.state_dict()[var_name])"
   ]
  },
  {
   "cell_type": "markdown",
   "metadata": {},
   "source": [
    "### Evaluate Model"
   ]
  },
  {
   "cell_type": "code",
   "execution_count": null,
   "metadata": {},
   "outputs": [],
   "source": [
    "# Plot train losses\n",
    "ax = plt.axes()\n",
    "for fold_losses in train_losses:\n",
    "    plt.plot(fold_losses)\n",
    "plt.title('Training Loss Evaluation per fold')\n",
    "plt.xlabel('Epoch')\n",
    "plt.ylabel('Magnitude')\n",
    "plt.legend(['Fold ' + str(x) for x in range(1, 11)])\n",
    "plt.show()"
   ]
  },
  {
   "cell_type": "code",
   "execution_count": null,
   "metadata": {},
   "outputs": [],
   "source": [
    "# Plot test losses\n",
    "ax = plt.axes()\n",
    "for fold_losses in test_losses:\n",
    "    plt.plot(fold_losses)\n",
    "plt.title('Test Loss Evaluation per fold')\n",
    "plt.xlabel('Epoch')\n",
    "plt.ylabel('Magnitude')\n",
    "plt.legend(['Fold ' + str(x) for x in range(1, 11)])\n",
    "plt.show()"
   ]
  },
  {
   "cell_type": "code",
   "execution_count": null,
   "metadata": {},
   "outputs": [],
   "source": [
    "# Get performance metrics by calculcating average of metrics across all folds\n",
    "print(\"Final Performance Metrics\")\n",
    "print(f\"Accuracy: {np.mean(results_accuracy)}\")\n",
    "print(f\"Precision: {np.mean(results_precision)}\")\n",
    "print(f\"Sensitivity: {np.mean(results_sensitivity)}\")\n",
    "print(f\"Specificity: {np.mean(results_specificity)}\")\n",
    "print(f\"F1: {np.mean(results_f1)}\")"
   ]
  },
  {
   "cell_type": "markdown",
   "metadata": {},
   "source": [
    "### Show Predictions on Sample Images"
   ]
  },
  {
   "cell_type": "code",
   "execution_count": null,
   "metadata": {},
   "outputs": [],
   "source": [
    "sample_img_names = [\"0000-0-A.tif\", \"0163-0-P.tif\", \"0198-0-A.tif\"]\n",
    "sample_img_paths = [(data_dir + \"/\" + sample_img_names[i]) for i in range(len(sample_img_names))]\n",
    "sample_classes = [sample_img_names[i][5] for i in range(len(sample_img_names))]\n",
    "sample_ground_truths = [\"No Metastasis\" if sample_classes[i] == 0 else \"Metastasis\" for i in range(len(sample_img_names))]\n",
    "sample_imgs = [Image.open(img_path).convert('RGB') for img_path in sample_img_paths]\n",
    "sample_imgs_show = [Image.open(img_path) for img_path in sample_img_paths]"
   ]
  },
  {
   "cell_type": "code",
   "execution_count": null,
   "metadata": {},
   "outputs": [],
   "source": [
    "validation_batch = torch.stack([preprocess(img).to(device) for img in sample_imgs])"
   ]
  },
  {
   "cell_type": "code",
   "execution_count": null,
   "metadata": {},
   "outputs": [],
   "source": [
    "sample_preds= model(validation_batch).detach().cpu().data.numpy()\n",
    "sample_preds"
   ]
  },
  {
   "cell_type": "code",
   "execution_count": null,
   "metadata": {},
   "outputs": [],
   "source": [
    "fig, axs = plt.subplots(1, len(sample_imgs_show), figsize=(20, 5))\n",
    "for i, img in enumerate(sample_imgs_show):\n",
    "    ax = axs[i]\n",
    "    ax.axis('off')\n",
    "    ax.set_title(\"Prediction: {:.0f}% No Metastasis, {:.0f}% Metastasis \\n Ground Truth: {}\"\n",
    "                 .format(100*sample_preds[i,0], 100*sample_preds[i,1], sample_ground_truths[i]))\n",
    "    ax.imshow(img)"
   ]
  },
  {
   "cell_type": "code",
   "execution_count": null,
   "metadata": {
    "scrolled": true
   },
   "outputs": [],
   "source": [
    "# NOTE: Due to lack of library support for CUDA, this will error if using CUDA\n",
    "# Get computational complexity\n",
    "model = model.to(\"cpu\")\n",
    "stat(model, (3, 646, 220))"
   ]
  }
 ],
 "metadata": {
  "kernelspec": {
   "display_name": "Python 3 (ipykernel)",
   "language": "python",
   "name": "python3"
  },
  "language_info": {
   "codemirror_mode": {
    "name": "ipython",
    "version": 3
   },
   "file_extension": ".py",
   "mimetype": "text/x-python",
   "name": "python",
   "nbconvert_exporter": "python",
   "pygments_lexer": "ipython3",
   "version": "3.10.9"
  }
 },
 "nbformat": 4,
 "nbformat_minor": 2
}
